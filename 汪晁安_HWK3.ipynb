{
 "cells": [
  {
   "cell_type": "markdown",
   "id": "a787d563",
   "metadata": {},
   "source": [
    "# Homework 3"
   ]
  },
  {
   "cell_type": "code",
   "execution_count": null,
   "id": "5a317e4f",
   "metadata": {},
   "outputs": [],
   "source": [
    "#import Pkg; Pkg.add(\"StatsPlots\")\n",
    "#Pkg.add(\"StatsFuns\")\n",
    "#Pkg.add(\"Interact\")\n",
    "#Pkg.add(\"WebIO\")"
   ]
  },
  {
   "cell_type": "markdown",
   "id": "ef3b2c76",
   "metadata": {},
   "source": [
    "## Draw Data Using Inverse Transform Sampling\n",
    "\n",
    "A half-normal distribution is often denoted as $N^+(0, \\sigma^2)$, which means it is a distribution obtained by truncating a normal distribution $N(0, \\sigma^2)$ at the point of `0` and keeping only the positive part (thus the \"+\" sign) of it. Since it cuts the **underlying normal distribution** into half, it is called a **half-normal distribution**. As you can see from the following graph, the density of $N^+(0, \\sigma^2)$ is twice as higher than that of the $N(0, \\sigma^2)$.\n",
    "\n",
    "This homework problem asks you to draw samples from the half-normal distribution $N^+(0, 2)$. It can be done in several ways.\n",
    "\n",
    "### Define a half-normal distribution using `Distributions.jl`, then use `rand()` to generate 5,000 random values. Draw a histogram of the data and overlay it with the theoretical density plot of $N^+(0,2)$.\n",
    "\n",
    " - Hint: You need `Distributions` to define distributions and `StatsPlots` to draw the histogram and the overlaying density plot. You may also need `StatsFuns` to use the normal cdf function.\n",
    "\n",
    "\n",
    "### (Very similar to the above) Define a half-normal distribution using `Distributions.jl`, then use `quantile()` to generate 5,000 random values. Draw a histogram of the data and overlay it with the theoretical density plot of $N^+(0,2)$. \n",
    "\n",
    "\n",
    "\n",
    "### Now, the above approaches are easy to implement in Julia because you could define a half-normal distribution using Julia's `Distributions.jl`. What if not? What if you are working with a software that has the quantile function, the normal distribution function, but does not have a pre-defined half-normal distribution function? Well, we can still draw 5,000 random values using the following line. Explain the logic of this line of code. Draw a histogram of the data and overlay it with the theoretical density plot of $N^+(0,2)$. \n",
    "```julia\n",
    "data3 = quantile(Normal(0, sqrt(2)), 0.5*rand(5000) .+ 0.5)\n",
    "```\n",
    "\n",
    "\n",
    "\n",
    "### The theoretical mean and variance of the distribution are $\\sigma \\sqrt{\\frac{2}{\\pi}}$ and $\\sigma^2 \\left(1-\\frac{2}{\\pi}\\right)$, respectively. Compare the means and standard deviations of the three datasets you generated to the theoretical values.\n",
    "\n",
    "\n",
    "\n",
    "<p><a href=\"https://commons.wikimedia.org/wiki/File:Half_normal_pdf.svg#/media/File:Half_normal_pdf.svg\"><img src=\"https://upload.wikimedia.org/wikipedia/commons/thumb/1/1e/Half_normal_pdf.svg/1200px-Half_normal_pdf.svg.png\" width=500></a></p>\n",
    "image by Nagelum - Own work, CC BY-SA 4.0, https://commons.wikimedia.org/w/index.php?curid=58393258\n",
    "\n",
    "\n"
   ]
  },
  {
   "cell_type": "code",
   "execution_count": null,
   "id": "b813cda0",
   "metadata": {},
   "outputs": [],
   "source": [
    "#1.1.1\n",
    "using Distributions, StatsPlots, StatsFuns\n",
    "set = rand(Truncated(Normal(0, sqrt(2)), 0, Inf),5000)\n",
    "histogram(set,linecolor = \"white\",normalize = true,label = \"distribution\" )\n",
    "plot!(x->pdf(Truncated(Normal(0, sqrt(2)), 0, Inf), x),lw = 3,xlim=xlims(),label = \"theoretical\")"
   ]
  },
  {
   "cell_type": "code",
   "execution_count": null,
   "id": "0fe1102d",
   "metadata": {},
   "outputs": [],
   "source": [
    "#1.1.2\n",
    "set = quantile(Truncated(Normal(0, sqrt(2)), 0, Inf),rand(5000))\n",
    "histogram(set,linecolor = \"white\",normalize = true,label = \"distribution\" )\n",
    "plot!(x->pdf(Truncated(Normal(0, sqrt(2)), 0, Inf), x),lw = 3,xlim=xlims(),label = \"theoretical\")"
   ]
  },
  {
   "cell_type": "code",
   "execution_count": null,
   "id": "0d8d9250",
   "metadata": {},
   "outputs": [],
   "source": [
    "#1.1.3 \n",
    "#先將rand()取值區間*0.5 + 5，改為[0.5,1]，只取常態分布大於0的部分。\n",
    "set = quantile(Normal(0, sqrt(2)), 0.5*rand(5000) .+ 0.5 )\n",
    "histogram(set,linecolor = \"white\",normalize = true,label = \"distribution\" )\n",
    "plot!(x->pdf(Truncated(Normal(0, sqrt(2)), 0, Inf), x),lw = 3,xlim=xlims(),label = \"theoretical\")"
   ]
  },
  {
   "cell_type": "code",
   "execution_count": null,
   "id": "c79f89b8",
   "metadata": {},
   "outputs": [],
   "source": [
    "#1.1.4\n",
    "theo_mean = sqrt(2)*sqrt(2/π)\n",
    "theo_var = 2 * (1 - 2/π)\n",
    "mean1 = mean(rand(Truncated(Normal(0, sqrt(2)), 0, Inf),5000))\n",
    "var1 = var(rand(Truncated(Normal(0, sqrt(2)), 0, Inf),5000))\n",
    "mean2 = mean(quantile(Truncated(Normal(0, sqrt(2)), 0, Inf),rand(5000)))\n",
    "var2 = var(quantile(Truncated(Normal(0, sqrt(2)), 0, Inf),rand(5000)))\n",
    "mean3 = mean(quantile(Normal(0, sqrt(2)), 0.5*rand(5000) .+ 0.5 ))\n",
    "var3 = var(quantile(Normal(0, sqrt(2)), 0.5*rand(5000) .+ 0.5 ))\n",
    "print(theo_mean,\" \", theo_var,\"\\n\")\n",
    "print(mean1,\" \",var1,\"\\n\")\n",
    "print(mean2,\" \",var2,\"\\n\")\n",
    "print(mean3,\" \",var3,\"\\n\")"
   ]
  },
  {
   "cell_type": "markdown",
   "id": "6c944c45",
   "metadata": {},
   "source": [
    "##  In the class, we showed how to transform values from a normal random variable $X \\sim F_X(X)$ to values of an exponential random variable $Z \\sim F_Z(Z)$. We used a three-step procedure to do this, and we drew graphs to have a visual confirmation on the transformation. This homework problem asks you to modify the graphs we used in class and observe the relationship between the sample size (`n` in the example) and the approximation of the distribution."
   ]
  },
  {
   "cell_type": "markdown",
   "id": "497f8b73",
   "metadata": {},
   "source": [
    "### Take a random sample $X$ of `n` measurements from $N(1,2)$ (note: the variance is 2), and draw a histogram of $X$ and compare it to the true $N(1,2)$ density (by overlaying the density to the histogram). Add a slider of $n$ from 100 to 20000. \n",
    "- Hint: You need to use packages of `Distributions`, `Plots`, `Interact`, `WebIO`, `StatsPlots`.\n",
    "- Hint: Use `@manipulate` with a `for` loop."
   ]
  },
  {
   "cell_type": "code",
   "execution_count": null,
   "id": "0389a2f9",
   "metadata": {},
   "outputs": [],
   "source": [
    "#1.2.1\n",
    "using Distributions, Plots, Interact, WebIO, StatsPlots\n",
    "d = Normal(1,sqrt(2))\n",
    "@manipulate for n in (100:100:20000) \n",
    "    X = rand(d,n)\n",
    "    histogram(X,linecolor = \"white\",normalize = true,label = \"distribution\" )\n",
    "    plot!(x->pdf(d, x),lw = 3,xlim=xlims(),label = \"theoretical\")\n",
    "end"
   ]
  },
  {
   "cell_type": "markdown",
   "id": "b5c1e232",
   "metadata": {},
   "source": [
    "### Continue from the above: Transform $X$ to $Y \\sim U(0,1)$, and draw a histogram of $Y$ and compare it to a $U(0,1)$. Overlaying the histogram by the density plot of $U(0,1)$.\n",
    "Hint: You will need `cdf()` function to transform `X` to `Y`."
   ]
  },
  {
   "cell_type": "code",
   "execution_count": null,
   "id": "5aea4313",
   "metadata": {},
   "outputs": [],
   "source": [
    "#1.2.2\n",
    "using Distributions, Plots, Interact, WebIO, StatsPlots\n",
    "d = Normal(1,sqrt(2))\n",
    "@manipulate for n in (100:100:20000) \n",
    "    X = rand(d,n)\n",
    "    Y = cdf(d,X)\n",
    "    p1 = histogram(Y,linecolor = \"white\",normalize = true,label = \"distribution\" )\n",
    "         plot!(Uniform(0,1),lw = 3,xlim=xlims(),label = \"theoretical\")\n",
    "end"
   ]
  },
  {
   "cell_type": "markdown",
   "id": "d904f9ec",
   "metadata": {},
   "source": [
    "### Continue from the above: Transform $Y$ to $Z ~ Exp(2)$ (exponential distribution, where mean=standard deviation=2) using an appropriate quantile function, and  draw a histogram of $Z$ and compare it to a Exp$(2)$. Overlay the histogram by a density plot of $Exp(2)$.\n",
    "\n",
    "Note: If the histogram resembles the density plot, congratulations! You've successfully transformed normally distributed data to exponential distribution data."
   ]
  },
  {
   "cell_type": "code",
   "execution_count": null,
   "id": "3d245b2c",
   "metadata": {},
   "outputs": [],
   "source": [
    "#1.2.3\n",
    "d = Normal(1,sqrt(2))\n",
    "e = Exponential(2)\n",
    "@manipulate for n in (100:100:20000) \n",
    "    X = rand(d,n)\n",
    "    Y = cdf(d,X)\n",
    "    Z = quantile(e,Y)\n",
    "    p1 = histogram(Z,linecolor = \"white\",normalize = true,label = \"distribution\" )\n",
    "         plot!(Exponential(2),lw = 3,xlim=xlims(),label = \"theoretical\")\n",
    "end"
   ]
  },
  {
   "cell_type": "markdown",
   "id": "58797a2e",
   "metadata": {},
   "source": [
    "##  The 2nd step in the above transformation relies on PIT (probability integral transformation) which we introduced in the class. However, PIT works best only if the CDF we used in the transformation is close to the true CDF of $X$. This problem asks you to examine what would happen if the CDF used in the transformation is not the actual CDF of $X$."
   ]
  },
  {
   "cell_type": "markdown",
   "id": "69121e40",
   "metadata": {},
   "source": [
    "### Take a random sample $X$ of `n` measurements from $N(1,2)$. Transform $X$ to $Y \\sim U(0,1)$ using the CDF of $N(1,1)$. Draw a histogram of $Y$ and overlay it with the density plot of $U(0,1)$. Remember to add a slider of `n`. According to your visual, does $Y$ look like uniformly distributed?"
   ]
  },
  {
   "cell_type": "code",
   "execution_count": null,
   "id": "87aa031f",
   "metadata": {},
   "outputs": [],
   "source": [
    "#1.3.1\n",
    "d = Normal(1,sqrt(2))\n",
    "@manipulate for n in (100:100:20000) \n",
    "    X = rand(Normal(1,sqrt(1)),n)\n",
    "    Y = cdf(d,X)\n",
    "    p1 = histogram(Y,linecolor = \"white\",normalize = true,label = \"distribution\" )\n",
    "         plot!(Uniform(0,1),lw = 3,xlim=xlims(),label = \"theoretical\")\n",
    "end\n",
    "#Absolutely not."
   ]
  },
  {
   "cell_type": "markdown",
   "id": "14b4a672",
   "metadata": {},
   "source": [
    "### Continue from the above: Transform $Y$ to $Z ~ Exp(2)$ (exponential distribution, where mean=standard deviation=2) using an appropriate quantile function, and  draw a histogram of $Z$ and compare it to a Exp$(2)$. Overlay the histogram by a density plot of $Exp(2)$.\n",
    "\n",
    "Question: Does the histogram match the density plot well? Why not?"
   ]
  },
  {
   "cell_type": "code",
   "execution_count": null,
   "id": "c6867060",
   "metadata": {},
   "outputs": [],
   "source": [
    "d = Normal(1,sqrt(2))\n",
    "e = Exponential(2)\n",
    "@manipulate for n in (100:100:20000) \n",
    "    X = rand(d,n)\n",
    "    Y = cdf(Normal(1,sqrt(1)),X)\n",
    "    Z = quantile(e,Y)\n",
    "    p1 = histogram(Z,linecolor = \"white\",normalize = true,label = \"distribution\" )\n",
    "         plot!(Exponential(2),lw = 3,xlim=xlims(),label = \"theoretical\")\n",
    "end\n",
    "#No. CDF used in the transformation is not the actual CDF of X."
   ]
  },
  {
   "cell_type": "markdown",
   "id": "dff6abf9",
   "metadata": {},
   "source": [
    "### Take a random sample $X$ of `n` measurements from $N(1,2)$. Transform $X$ to $Y \\sim U(0,1)$ using the CDF of an exponential distribution Exp(1). Draw a histogram of $Y$ and overlay it with the density plot of $U(0,1)$. Remember to add a slider of `n`. According to your visual, does $Y$ look like uniformly distributed?"
   ]
  },
  {
   "cell_type": "code",
   "execution_count": null,
   "id": "a6e54458",
   "metadata": {},
   "outputs": [],
   "source": [
    "d = Normal(1,sqrt(2))\n",
    "@manipulate for n in (100:100:20000) \n",
    "    X = rand(Normal(1,sqrt(1)),n)\n",
    "    Y = cdf(Exponential(1),X)\n",
    "    p1 = histogram(Y,linecolor = \"white\",normalize = true,label = \"distribution\" )\n",
    "         plot!(Uniform(0,1),lw = 3,xlim=xlims(),label = \"theoretical\")\n",
    "end\n",
    "#No."
   ]
  }
 ],
 "metadata": {
  "@webio": {
   "lastCommId": "cf8d4ec0b5584bc5835e744048d53153",
   "lastKernelId": "6f3d66f7-6e9b-43b0-b9be-d2ef22d7bd8a"
  },
  "kernelspec": {
   "display_name": "Julia 1.8.5",
   "language": "julia",
   "name": "julia-1.8"
  },
  "language_info": {
   "file_extension": ".jl",
   "mimetype": "application/julia",
   "name": "julia",
   "version": "1.8.5"
  },
  "toc": {
   "base_numbering": 1,
   "nav_menu": {},
   "number_sections": true,
   "sideBar": true,
   "skip_h1_title": false,
   "title_cell": "Table of Contents",
   "title_sidebar": "Contents",
   "toc_cell": false,
   "toc_position": {},
   "toc_section_display": true,
   "toc_window_display": false
  }
 },
 "nbformat": 4,
 "nbformat_minor": 5
}
