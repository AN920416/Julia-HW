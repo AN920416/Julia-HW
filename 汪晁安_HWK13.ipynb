{
 "cells": [
  {
   "cell_type": "markdown",
   "id": "b1c09b56",
   "metadata": {},
   "source": [
    "# Homework on MLE\n"
   ]
  },
  {
   "cell_type": "markdown",
   "id": "4ff1e081",
   "metadata": {},
   "source": [
    "#####   Estimate a Normal-Half Normal Model.\n",
    "\n",
    "Consider the Model A below:\n",
    "\n",
    "\\begin{aligned}\n",
    " y_i & = \\alpha + x_i' \\beta + v_i - u_i,\\\\\n",
    " v_i & \\sim N(0, \\sigma_v^2), \\\\\n",
    " u_i & \\sim N^+(0, \\sigma_u^2).\n",
    "\\end{aligned}\n",
    " \n",
    " \n",
    "The following is Model A's log-likelihood function of the $i$th observation. \n",
    "\n",
    "\\begin{align}\n",
    "L_i = - \\ln \\left(\\frac{1}{2}\\right) -\\frac{1}{2}\\ln (\\sigma_v^2 + \\sigma_u^2) + \\ln\n",
    "\\phi\\left(\\frac{\\epsilon_i}{\\sqrt{\\sigma_v^2 + \\sigma_u^2}} \\right) +\n",
    "\\ln \\Phi\\left(\\frac{\\mu_{*i}}{\\sigma_*} \\right),\n",
    "\\end{align}\n",
    "\n",
    "where $\\phi(z)$ and $\\Phi(z)$ are the PDF and CDF of a standard normal distribution. Also,\n",
    "\n",
    "\\begin{aligned}\n",
    " \\mu_{*i}  = \\frac{-\\sigma_u^2 \\epsilon_i}{\\sigma_v^2 + \\sigma_u^2},\\qquad\n",
    " \\sigma_*^2  = \\frac{\\sigma_v^2  \\sigma_u^2}{\\sigma_v^2 + \\sigma_u^2}. \n",
    "\\end{aligned}\n",
    "\n",
    "\n",
    "The attached dataset, `sampledata.csv`, contains data of agricultural production from India. The variables are the follows. They have been converted to appropriate units (taking log, etc.) so no further data processing is necessary.\n",
    "\n",
    "\n",
    "|          |  |        |\n",
    "|-------------------------------------|---|---------------------|\n",
    "| yvar: rice output                   |   | Lland: land         |\n",
    "| Plland: irrigated land              |   | Llabor: labor       |\n",
    "| Lbull: bull cost                    |   | Lcost: other costs  |\n",
    "| yr: production year                 |   | age: age of farmers |\n",
    "| school: farmers' years of schooling |   | yr_1: same as year  |\n",
    "\n",
    "\n",
    "The Indian farming model is the follows.\n",
    "\n",
    "$yvar_i = \\alpha + \\beta_1 Lland_i + \\beta_2 Plland_i + \\beta_3 Llabor_i + \\beta_4 Lbull_i + \\beta_5 Lcost_i + \\beta_6 yr_i + v_i - u_i$.\n",
    "  \n",
    "You may use the following code to read in the data.\n",
    "\n",
    "```julia\n",
    "####################\n",
    "using DataFrames, CSV\n",
    "df = DataFrame(CSV.File(\"sampledata.csv\"))\n",
    "y = df[:, \"yvar\"]       # the dep var\n",
    "x = Matrix(df[:, 2:7])  # the indep vars, not including a constant\n",
    "####################\n",
    "```"
   ]
  },
  {
   "cell_type": "markdown",
   "id": "9b6bebbe",
   "metadata": {},
   "source": [
    "###### Your work: \n",
    "\n",
    "- Based on (1), write a program of Model A's log-likelihood function and call it `NHN_mle`. You may use `loglike5` in the lecture note as the reference. \n",
    "\n",
    "\n",
    "- Use `NHN_mle` to estimate the Indian farming model. You may conduct the estimation using `Optim` or your own programs. The required result is a table with three columns: the 1st column is the coefficients, the 2nd column is the standard errors, and the 3rd column is the $t$ statistics. They do not have to be in DataFrames.\n",
    "\n",
    "\n",
    "- The Estimation Guidelines:\n",
    "  \n",
    "  - You may use $-0.1$ as the initial values for all parameters. Or you may use the OLS result as the initial values for the $\\alpha$ and $\\beta$ coefficients (`x2=hcat(ones(size(y,1), 1), x); ols=inv(x2'x2)*(x2'y)`). Or, you may choose any initial values that seem to be reasonable choices. However, you _**cannot**_ use the true answer as the initial values.\n",
    "\n",
    "  - I strongly suggest that your program uses the `autodiff = :forward` option (which uses automatic differentiation) in the estimation.\n",
    "  \n",
    "    - The `autodiff = :forward` option puts stringent requirements on data types which may not easy to work out. I suggest that you start with your program without the option (which would then default to numerical finite differences that is easier on the data). After you have a working program, you may add the option back and see if it works. Most likely you'll have error messages and you have to work out the issues. If you can't make it work, that's fine. Try your best.  \n",
    "  \n",
    "- Hint: Look at $|g(x)|$ to judge whether it is converged. It should be smaller than the convergence criterion. "
   ]
  },
  {
   "cell_type": "code",
   "execution_count": null,
   "id": "7d282b57",
   "metadata": {},
   "outputs": [],
   "source": [
    "#import Pkg; Pkg.add(\"CSV\")"
   ]
  },
  {
   "cell_type": "code",
   "execution_count": 1,
   "id": "54636039",
   "metadata": {},
   "outputs": [],
   "source": [
    "using Distributions, DataFrames, CSV, LinearAlgebra, ForwardDiff, Optim"
   ]
  },
  {
   "cell_type": "code",
   "execution_count": 2,
   "id": "821b3ca0",
   "metadata": {},
   "outputs": [
    {
     "data": {
      "text/plain": [
       "271×6 Matrix{Float64}:\n",
       " -0.210721  0.0       5.26269  4.41884  0.0       6.0\n",
       " -0.210721  0.0       4.84419  4.20469  0.0       7.0\n",
       " -0.210721  0.0       4.39445  3.78419  0.0       8.0\n",
       " -0.210721  0.0       4.79579  4.23411  4.51501   9.0\n",
       " -0.211476  0.0       5.54908  4.95583  4.31431  10.0\n",
       "  0.482426  0.0       5.53733  5.06259  0.0       6.0\n",
       "  0.19062   0.0       5.17048  4.58497  0.0       7.0\n",
       "  0.482426  0.0       5.57595  4.86754  0.0       9.0\n",
       "  0.481671  0.0       5.38907  4.96981  0.0      10.0\n",
       " -0.210721  0.0       4.31749  3.68888  0.0       7.0\n",
       " -0.916291  0.0       4.07754  3.43399  0.0       8.0\n",
       " -0.210721  0.0       5.96101  4.02535  3.76898   6.0\n",
       " -0.210721  0.0       5.47646  4.64439  3.8907    7.0\n",
       "  ⋮                                               ⋮\n",
       "  1.58858   0.669422  8.49208  6.82546  7.15436  10.0\n",
       "  2.06051   0.168153  8.52258  7.06133  7.66435   1.0\n",
       "  2.09924   0.11152   8.70814  7.32251  7.11658   2.0\n",
       "  1.63705   0.315175  8.16877  6.63857  6.88085   3.0\n",
       "  1.69928   0.296161  8.28954  6.52356  7.26189   4.0\n",
       "  1.21788   0.538462  8.22094  6.51323  6.56129   5.0\n",
       " -1.20397   0.0       4.52179  4.02535  0.0       6.0\n",
       "  0.262364  0.0       5.86079  5.23111  3.65181   7.0\n",
       "  0.802002  0.452915  7.48941  5.8693   6.10984   2.0\n",
       "  0.802002  0.363229  7.23993  5.91889  5.79586   3.0\n",
       "  0.887891  0.497942  7.52726  5.33754  6.52888   4.0\n",
       "  0.19062   0.0       5.68017  4.52179  0.0       5.0"
      ]
     },
     "execution_count": 2,
     "metadata": {},
     "output_type": "execute_result"
    }
   ],
   "source": [
    "df = DataFrame(CSV.File(\"HWK13sampledata.csv\"))\n",
    "y = df[:, \"yvar\"]       # the dep var\n",
    "x = Matrix(df[:, 2:7])"
   ]
  },
  {
   "cell_type": "code",
   "execution_count": 83,
   "id": "c4530fe0",
   "metadata": {},
   "outputs": [
    {
     "data": {
      "text/plain": [
       "NHN_mle (generic function with 1 method)"
      ]
     },
     "execution_count": 83,
     "metadata": {},
     "output_type": "execute_result"
    }
   ],
   "source": [
    "function NHN_mle(y, x, α, β, log_σv², log_σu²)  \n",
    "    \n",
    "    σv² = exp(log_σv²)\n",
    "    σu² = exp(log_σu²)\n",
    "    PDF(ϵ) = pdf(Normal(0,1),ϵ)\n",
    "    CDF(ϵ) = cdf(Normal(0,1),ϵ)\n",
    "    sigma = (σv²*σu²)/(σv²+σu²)\n",
    "    sigma = sqrt(sigma)\n",
    "    mu(ϵ) = ((-σu²*ϵ)/(σv²+σu²))\n",
    "    ϵ  = y .- α .- x*β\n",
    "    \n",
    "    llike = 0.0          \n",
    "    for i in eachindex(ϵ)\n",
    "        #llike += -log(1/2)-(log(σu²+σv²))/2 + log(PDF(ϵ[i]/(sqrt(σv²+σu²)))) + log(CDF(mu(ϵ[i])/sigma))\n",
    "        llike += -log(1/2)-(log(σu²+σv²))/2 + log(pdf(Normal(0,1), ϵ[i]/(sqrt(σv²+σu²)))) + log(cdf(Normal(0,1), mu(ϵ[i])/sigma))\n",
    "    end\n",
    "    \n",
    "    return llike = -llike\n",
    "end"
   ]
  },
  {
   "cell_type": "code",
   "execution_count": 111,
   "id": "fe7047b1",
   "metadata": {},
   "outputs": [
    {
     "name": "stdout",
     "output_type": "stream",
     "text": [
      " * Status: success (objective increased between iterations)\n",
      "\n",
      " * Candidate solution\n",
      "    Final objective value:     9.336604e+01\n",
      "\n",
      " * Found with\n",
      "    Algorithm:     Newton's Method\n",
      "\n",
      " * Convergence measures\n",
      "    |x - x'|               = 9.90e-11 ≰ 0.0e+00\n",
      "    |x - x'|/|x'|          = 2.89e-11 ≰ 0.0e+00\n",
      "    |f(x) - f(x')|         = 5.68e-14 ≰ 0.0e+00\n",
      "    |f(x) - f(x')|/|f(x')| = 6.09e-16 ≰ 0.0e+00\n",
      "    |g(x)|                 = 7.04e-09 ≤ 1.0e-08\n",
      "\n",
      " * Work counters\n",
      "    Seconds run:   0  (vs limit Inf)\n",
      "    Iterations:    14\n",
      "    f(x) calls:    40\n",
      "    ∇f(x) calls:   40\n",
      "    ∇²f(x) calls:  14\n",
      "\n",
      "The estimation table is\n"
     ]
    },
    {
     "data": {
      "text/plain": [
       "9×3 Matrix{Float64}:\n",
       "  1.59012     0.349984     4.54342\n",
       "  0.286194    0.0698685    4.09618\n",
       "  0.234652    0.176519     1.32933\n",
       "  1.15546     0.0812037   14.2292\n",
       " -0.421433    0.0594057   -7.09415\n",
       "  0.00661819  0.0130431    0.507411\n",
       "  0.0340904   0.00803052   4.2451\n",
       "  1.25733     0.353605     3.55574\n",
       "  0.25651     0.0421415    6.08686"
      ]
     },
     "metadata": {},
     "output_type": "display_data"
    }
   ],
   "source": [
    "nofxvar = 6\n",
    "x2 = hcat(ones(size(y,1), 1), x)\n",
    "ols=inv(x2'x2)*(x2'y)\n",
    "ols=push!(ols,1,1)\n",
    "func = TwiceDifferentiable(vars -> NHN_mle(y, x, vars[1], vars[2:nofxvar+1], vars[end-1], vars[end]), ones(nofxvar+3))\n",
    "res = optimize(func, ols , Newton())\n",
    "print(res,\"\\n\")\n",
    "coevec = Optim.minimizer(res)\n",
    "rescoef = deepcopy(coevec)                \n",
    "rescoef[end] = exp(coevec[end])\n",
    "rescoef[end - 1] = exp(_coevec[end - 1]) \n",
    "\n",
    "hess  = Optim.hessian!(func, coevec)  \n",
    "\n",
    "varcov_matrix = inv(hess)\n",
    "stderror = []\n",
    "stderror = sqrt.(diag(varcov_matrix))\n",
    "\n",
    "stderror[end] = rescoef[end] * stderror[end]\n",
    "stderror[end-1] = rescoef[end-1] * stderror[end-1]\n",
    "tstats = rescoef ./ stderror\n",
    "\n",
    "table = hcat(rescoef, stderror, tstats)\n",
    "println(\"The estimation table is\")\n",
    "table |> display"
   ]
  },
  {
   "cell_type": "code",
   "execution_count": null,
   "id": "b1c2b9cc",
   "metadata": {},
   "outputs": [],
   "source": []
  }
 ],
 "metadata": {
  "@webio": {
   "lastCommId": null,
   "lastKernelId": null
  },
  "kernelspec": {
   "display_name": "Julia 1.8.5",
   "language": "julia",
   "name": "julia-1.8"
  },
  "language_info": {
   "file_extension": ".jl",
   "mimetype": "application/julia",
   "name": "julia",
   "version": "1.8.5"
  },
  "toc": {
   "base_numbering": 1,
   "nav_menu": {},
   "number_sections": true,
   "sideBar": true,
   "skip_h1_title": false,
   "title_cell": "Table of Contents",
   "title_sidebar": "Contents",
   "toc_cell": false,
   "toc_position": {},
   "toc_section_display": true,
   "toc_window_display": false
  }
 },
 "nbformat": 4,
 "nbformat_minor": 5
}
