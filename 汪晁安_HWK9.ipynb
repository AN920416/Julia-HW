{
 "cells": [
  {
   "cell_type": "markdown",
   "id": "66794400",
   "metadata": {},
   "source": [
    "# Homework\n",
    "\n",
    "Consider the following function:\n",
    "\n",
    "\\begin{align}\n",
    " f(x) = \\log(x)\\times \\exp\\left[-\\frac{1}{2}\\left(\\frac{x-\\mu}{\\sigma}\\right)^2 \\right].\n",
    "\\end{align}\n",
    "\n",
    "Let's assume $\\mu=1.5$ and $\\sigma=2$. "
   ]
  },
  {
   "cell_type": "code",
   "execution_count": 2,
   "id": "52b532c9",
   "metadata": {},
   "outputs": [
    {
     "name": "stderr",
     "output_type": "stream",
     "text": [
      "\u001b[32m\u001b[1m    Updating\u001b[22m\u001b[39m registry at `C:\\Users\\d3m2w\\.julia\\registries\\General.toml`\n",
      "\u001b[32m\u001b[1m   Resolving\u001b[22m\u001b[39m package versions...\n",
      "\u001b[32m\u001b[1m   Installed\u001b[22m\u001b[39m Richardson ──────── v1.4.0\n",
      "\u001b[32m\u001b[1m   Installed\u001b[22m\u001b[39m FiniteDifferences ─ v0.12.26\n",
      "\u001b[32m\u001b[1m    Updating\u001b[22m\u001b[39m `C:\\Users\\d3m2w\\.julia\\environments\\v1.8\\Project.toml`\n",
      " \u001b[90m [26cc04aa] \u001b[39m\u001b[92m+ FiniteDifferences v0.12.26\u001b[39m\n",
      "\u001b[32m\u001b[1m    Updating\u001b[22m\u001b[39m `C:\\Users\\d3m2w\\.julia\\environments\\v1.8\\Manifest.toml`\n",
      " \u001b[90m [26cc04aa] \u001b[39m\u001b[92m+ FiniteDifferences v0.12.26\u001b[39m\n",
      " \u001b[90m [708f8203] \u001b[39m\u001b[92m+ Richardson v1.4.0\u001b[39m\n",
      "\u001b[32m\u001b[1mPrecompiling\u001b[22m\u001b[39m project...\n",
      "\u001b[32m  ✓ \u001b[39m\u001b[90mRichardson\u001b[39m\n",
      "\u001b[32m  ✓ \u001b[39mFiniteDifferences\n",
      "  2 dependencies successfully precompiled in 4 seconds. 232 already precompiled.\n"
     ]
    }
   ],
   "source": [
    "#import Pkg; Pkg.add(\"FiniteDifferences\")"
   ]
  },
  {
   "cell_type": "code",
   "execution_count": 36,
   "id": "f14807bd",
   "metadata": {},
   "outputs": [],
   "source": [
    "using FiniteDifferences, ForwardDiff\n"
   ]
  },
  {
   "cell_type": "markdown",
   "id": "21e873fb",
   "metadata": {},
   "source": [
    "### Write a numerical finite differentiation program using the forward difference formula. \n",
    "#### Calculate the derivative of $f(x)$ at $x=1.2$ using various values of $h$, including Nash's formula. Which one is the best?\n",
    "\n",
    "### Write a numerical finite differentiation program using the central difference formula. \n",
    "#### Calculate the derivative of $f(x)$ at $x=1.2$ using various values of $h$, including Nash's formula. Which one is the best?"
   ]
  },
  {
   "cell_type": "code",
   "execution_count": 37,
   "id": "a1d8f0ef",
   "metadata": {},
   "outputs": [
    {
     "name": "stdout",
     "output_type": "stream",
     "text": [
      "Foward diff:\n",
      "h =  1e-5: 0.8375289798911999 / error : -3.0356435377631996e-6\n",
      "h = bestH: 0.8375320107051233 / error : -4.82961437509033e-9\n",
      "h = 1e-15: 0.8881784197001251 / error :  0.05064640416538746\n",
      "Nash's formula is the best."
     ]
    }
   ],
   "source": [
    "f(x) = log(x)*exp((-1/2)*((x - 1.5)/2)^2)\n",
    "trueValue = ForwardDiff.derivative(f, 1.2)\n",
    "foward(x, h) = (f(x + h) - f(x)) / h\n",
    "bestH(x) = sqrt(eps(one(eltype(1.0)))) * (abs(x) + sqrt(eps(one(eltype(1.0)))))\n",
    "print(\"Foward diff:\\nh =  1e-5: \",foward(1.2,1e-5), \" / error : \",foward(1.2,1e-5) - trueValue,\"\\n\")\n",
    "print(\"h = bestH: \",foward(1.2,bestH(1.2)),\" / error : \",foward(1.2,bestH(1.2)) - trueValue,\"\\n\")\n",
    "print(\"h = 1e-15: \",foward(1.2,1e-15),\" / error :  \",foward(1.2,1e-15) - trueValue,\"\\n\")\n",
    "print(\"Nash's formula is the best.\")"
   ]
  },
  {
   "cell_type": "code",
   "execution_count": 59,
   "id": "2ae56511",
   "metadata": {},
   "outputs": [
    {
     "name": "stdout",
     "output_type": "stream",
     "text": [
      "Foward diff:\n",
      "h =  1e-5: 0.837532015543485 / error : 8.747336188719146e-12\n",
      "h = bestH: 0.837532015361736 / error : -1.7300161303523964e-10\n",
      "h = 1e-15: 0.7494005416219806 / error :  -0.08813147391275711\n",
      "h=  1e-5 is the best."
     ]
    }
   ],
   "source": [
    "central(x, h) = (f(x + h/2) - f(x - h/2)) / h\n",
    "bestH(x) = sqrt(eps(one(eltype(1.0)))) * (abs(x) + sqrt(eps(one(eltype(1.0)))))\n",
    "print(\"Foward diff:\\nh =  1e-5: \",central(1.2,1e-5), \" / error : \",central(1.2,1e-5) - trueValue,\"\\n\")\n",
    "print(\"h = bestH: \",central(1.2,bestH(1.2)),\" / error : \",central(1.2,bestH(1.2)) - trueValue,\"\\n\")\n",
    "print(\"h = 1e-15: \",central(1.2,1e-15),\" / error :  \",central(1.2,1e-15) - trueValue,\"\\n\")\n",
    "print(\"h=  1e-5 is the best.\")"
   ]
  },
  {
   "cell_type": "markdown",
   "id": "36970d21",
   "metadata": {},
   "source": [
    "### Use Julia's package `FiniteDifferences` to compute the derivative of $f(x)$ at $x=1.2$. "
   ]
  },
  {
   "cell_type": "code",
   "execution_count": 6,
   "id": "8027a678",
   "metadata": {},
   "outputs": [
    {
     "name": "stdout",
     "output_type": "stream",
     "text": [
      "0.8375320155346879"
     ]
    }
   ],
   "source": [
    "f(x) = log(x)*exp((-1/2)*((x - 1.5)/2)^2)\n",
    "print(central_fdm(5, 1)(f, 1.2))"
   ]
  }
 ],
 "metadata": {
  "@webio": {
   "lastCommId": null,
   "lastKernelId": null
  },
  "kernelspec": {
   "display_name": "Julia 1.8.5",
   "language": "julia",
   "name": "julia-1.8"
  },
  "language_info": {
   "file_extension": ".jl",
   "mimetype": "application/julia",
   "name": "julia",
   "version": "1.8.5"
  },
  "toc": {
   "base_numbering": 1,
   "nav_menu": {},
   "number_sections": true,
   "sideBar": true,
   "skip_h1_title": false,
   "title_cell": "Table of Contents",
   "title_sidebar": "Contents",
   "toc_cell": false,
   "toc_position": {},
   "toc_section_display": true,
   "toc_window_display": false
  }
 },
 "nbformat": 4,
 "nbformat_minor": 5
}
