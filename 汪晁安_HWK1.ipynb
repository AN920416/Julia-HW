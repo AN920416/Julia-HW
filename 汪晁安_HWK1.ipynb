{
 "cells": [
  {
   "cell_type": "markdown",
   "id": "fbc4b55c",
   "metadata": {},
   "source": [
    "# 作業 1 （荒野求生）\n",
    "\n",
    "\n",
    "- **前三題一定要做，以前三題的表現給分。後面幾題不計分但也一定要寫；寫錯、沒寫完、寫不出來沒關係，但要有嘗試的痕跡或證據（例如，幾行相關的code)。**\n",
    "- 請於下星期一（2/27）下午 2:00 前上傳 NTU Cool 繳交。超過了時間系統無法收件。\n",
    "- 繳交時，請將檔案名稱改爲「姓名_HWK1.ipynb」;例如「王小明_HWK1.ipynb」。\n",
    "- 題目來源：111年學測數A及數B。\n",
    "- 此作業的目的不在考數學，而在練習使用 Julia；歡迎上網找相關題目的解答。重點在過程不在答案。\n",
    "  - [數A影音解答](https://www.youtube.com/watch?v=sWfWqDtsa5o&ab_channel=CMmath)\n",
    "  - [數B影音解答](https://www.youtube.com/watch?v=j3jigIF2QO8&ab_channel=CMmath)\n",
    "- 所有數字必須透過程式算出來，不能心算等人為介入。例如：\n",
    "  - $n(n-1)/2 > 200$, 不能用心算得出 $n$ 最小為15。\n",
    "  - $-3.1$ 到 $8.9$ 之間有幾個整數，不能扳手指算。\n",
    "- 假設你的解答過程及答案將作爲補習班教學之用。請適當註解程式，讓解答容易被學生了解。\n",
    "\n",
    "\n",
    "\n"
   ]
  },
  {
   "cell_type": "markdown",
   "id": "4e7c8d13",
   "metadata": {},
   "source": [
    "## (111學測數B單選5) 設矩陣 $A = \\begin{bmatrix} 1 & 1 \\\\ 1 & -1\\end{bmatrix}$，若 $A^7 - 3A = \\begin{bmatrix} a & b \\\\ c & d\\end{bmatrix}$，則 $a + b + c + d$ 之值為何？\n",
    "\n",
    "Hint 1: 算出 $A^7 - 3A$ 的矩陣，然後把裏面的 elements 相加。想想看，如何把一個矩陣的 elements 加起來。"
   ]
  },
  {
   "cell_type": "code",
   "execution_count": 5,
   "id": "7349b2a1",
   "metadata": {},
   "outputs": [
    {
     "name": "stdout",
     "output_type": "stream",
     "text": [
      "Ans:\n",
      "10"
     ]
    }
   ],
   "source": [
    "A = [1 1;\n",
    "     1 -1]\n",
    "Ans = (A^7) - 3A\n",
    "println(\"Ans:\")\n",
    "print(Ans[1,1] + Ans[1,2] + Ans[2,1] + Ans[2,2])"
   ]
  },
  {
   "cell_type": "markdown",
   "id": "d153ef86",
   "metadata": {},
   "source": [
    "## (111學測數A單選5） 已知某地區有 30%的人口感染某傳染病。針對該傳染病的快篩試劑檢驗，有陽性或陰性兩結果。已知該試劑將染病者判為陽性的機率為 80%，將未染病者判為陰性的機率則為60%。為降低該試劑將染病者誤判為陰性的情況，專家建議連續採檢三次。若單次採檢判為陰性者中，染病者的機率為 P；而連續採檢三次皆判為陰性者中，染病者的機率為 P '。試問 P/P' 為多少？"
   ]
  },
  {
   "cell_type": "code",
   "execution_count": 18,
   "id": "2777a6f0",
   "metadata": {},
   "outputs": [
    {
     "name": "stdout",
     "output_type": "stream",
     "text": [
      "Ans:\n",
      "8.0"
     ]
    }
   ],
   "source": [
    "realP = 0.3 #地區陽性率\n",
    "testP = 0.8 #真陽\n",
    "testN = 0.6 #真陰\n",
    "P = (realP * (1 - testP))/(realP * (1 - testP) + (1 - realP) * testN)\n",
    "P′ = (realP * ((1 - testP)^3))/(realP * ((1 - testP)^3) + (1 - realP) * (testN^3))\n",
    "println(\"Ans:\")\n",
    "print(round(P/P′))"
   ]
  },
  {
   "cell_type": "markdown",
   "id": "a8011ed3",
   "metadata": {},
   "source": [
    "## (111學測數A單選1） 某冰淇淋店最少需準備 n 桶不同口味的冰淇淋，才能滿足廣告所稱「任選兩球不同口味冰淇淋的組合數超過 100 種」。試問來店顧客從 n 桶中任選兩球（可為同一口味）共有幾種方法？請提供至少三種解法：\n",
    "- ### 不使用任何 package (hint: 可以用 `while` loop),\n",
    "\n",
    "- ### 使用 `Combinatorics` package (hint: 可參考[這個連結](https://juliamath.github.io/Combinatorics.jl/dev/api/#Combinatorics.combinations-Tuple{Any,%20Integer}); 可以用 `collect()` 函數）,\n",
    "- ### 使用 `Roots` package （hint: 定義一個函數，然後用 `find_zero()` 求解）。\n"
   ]
  },
  {
   "cell_type": "code",
   "execution_count": 33,
   "id": "d8cdcae6",
   "metadata": {
    "collapsed": true
   },
   "outputs": [
    {
     "name": "stderr",
     "output_type": "stream",
     "text": [
      "\u001b[32m\u001b[1m   Resolving\u001b[22m\u001b[39m package versions...\n",
      "\u001b[32m\u001b[1m  No Changes\u001b[22m\u001b[39m to `C:\\Users\\d3m2w\\.julia\\environments\\v1.8\\Project.toml`\n",
      "\u001b[32m\u001b[1m  No Changes\u001b[22m\u001b[39m to `C:\\Users\\d3m2w\\.julia\\environments\\v1.8\\Manifest.toml`\n",
      "\u001b[32m\u001b[1m   Resolving\u001b[22m\u001b[39m package versions...\n",
      "\u001b[32m\u001b[1m   Installed\u001b[22m\u001b[39m StaticArraysCore ─ v1.4.0\n",
      "\u001b[32m\u001b[1m   Installed\u001b[22m\u001b[39m Compat ─────────── v4.6.0\n",
      "\u001b[32m\u001b[1m   Installed\u001b[22m\u001b[39m Roots ──────────── v2.0.9\n",
      "\u001b[32m\u001b[1m   Installed\u001b[22m\u001b[39m CommonSolve ────── v0.2.3\n",
      "\u001b[32m\u001b[1m   Installed\u001b[22m\u001b[39m ConstructionBase ─ v1.5.1\n",
      "\u001b[32m\u001b[1m   Installed\u001b[22m\u001b[39m MacroTools ─────── v0.5.10\n",
      "\u001b[32m\u001b[1m   Installed\u001b[22m\u001b[39m Setfield ───────── v1.1.1\n",
      "\u001b[32m\u001b[1m   Installed\u001b[22m\u001b[39m ChainRulesCore ─── v1.15.7\n",
      "\u001b[32m\u001b[1m    Updating\u001b[22m\u001b[39m `C:\\Users\\d3m2w\\.julia\\environments\\v1.8\\Project.toml`\n",
      " \u001b[90m [f2b01f46] \u001b[39m\u001b[92m+ Roots v2.0.9\u001b[39m\n",
      "\u001b[32m\u001b[1m    Updating\u001b[22m\u001b[39m `C:\\Users\\d3m2w\\.julia\\environments\\v1.8\\Manifest.toml`\n",
      " \u001b[90m [d360d2e6] \u001b[39m\u001b[92m+ ChainRulesCore v1.15.7\u001b[39m\n",
      " \u001b[90m [38540f10] \u001b[39m\u001b[92m+ CommonSolve v0.2.3\u001b[39m\n",
      " \u001b[90m [34da2185] \u001b[39m\u001b[92m+ Compat v4.6.0\u001b[39m\n",
      " \u001b[90m [187b0558] \u001b[39m\u001b[92m+ ConstructionBase v1.5.1\u001b[39m\n",
      " \u001b[90m [1914dd2f] \u001b[39m\u001b[92m+ MacroTools v0.5.10\u001b[39m\n",
      " \u001b[90m [f2b01f46] \u001b[39m\u001b[92m+ Roots v2.0.9\u001b[39m\n",
      " \u001b[90m [efcf1570] \u001b[39m\u001b[92m+ Setfield v1.1.1\u001b[39m\n",
      " \u001b[90m [1e83bf80] \u001b[39m\u001b[92m+ StaticArraysCore v1.4.0\u001b[39m\n",
      " \u001b[90m [9fa8497b] \u001b[39m\u001b[92m+ Future\u001b[39m\n",
      " \u001b[90m [37e2e46d] \u001b[39m\u001b[92m+ LinearAlgebra\u001b[39m\n",
      " \u001b[90m [2f01184e] \u001b[39m\u001b[92m+ SparseArrays\u001b[39m\n",
      " \u001b[90m [e66e0078] \u001b[39m\u001b[92m+ CompilerSupportLibraries_jll v1.0.1+0\u001b[39m\n",
      " \u001b[90m [4536629a] \u001b[39m\u001b[92m+ OpenBLAS_jll v0.3.20+0\u001b[39m\n",
      " \u001b[90m [8e850b90] \u001b[39m\u001b[92m+ libblastrampoline_jll v5.1.1+0\u001b[39m\n",
      "\u001b[32m\u001b[1mPrecompiling\u001b[22m\u001b[39m project...\n",
      "\u001b[32m  ✓ \u001b[39m\u001b[90mCommonSolve\u001b[39m\n",
      "\u001b[32m  ✓ \u001b[39m\u001b[90mCompilerSupportLibraries_jll\u001b[39m\n",
      "\u001b[32m  ✓ \u001b[39m\u001b[90mCompat\u001b[39m\n",
      "\u001b[32m  ✓ \u001b[39m\u001b[90mStaticArraysCore\u001b[39m\n",
      "\u001b[32m  ✓ \u001b[39m\u001b[90mConstructionBase\u001b[39m\n",
      "\u001b[32m  ✓ \u001b[39m\u001b[90mOpenBLAS_jll\u001b[39m\n",
      "\u001b[32m  ✓ \u001b[39m\u001b[90mlibblastrampoline_jll\u001b[39m\n",
      "\u001b[32m  ✓ \u001b[39m\u001b[90mChainRulesCore\u001b[39m\n",
      "\u001b[32m  ✓ \u001b[39m\u001b[90mMacroTools\u001b[39m\n",
      "\u001b[32m  ✓ \u001b[39m\u001b[90mSetfield\u001b[39m\n",
      "\u001b[32m  ✓ \u001b[39mRoots\n",
      "  11 dependencies successfully precompiled in 6 seconds. 17 already precompiled.\n"
     ]
    }
   ],
   "source": [
    "#Import packages\n",
    "import Pkg; Pkg.add(\"Combinatorics\")\n",
    "Pkg.add(\"Roots\")"
   ]
  },
  {
   "cell_type": "code",
   "execution_count": 27,
   "id": "1ea38e32",
   "metadata": {},
   "outputs": [
    {
     "name": "stdout",
     "output_type": "stream",
     "text": [
      "Ans:\n",
      "120"
     ]
    }
   ],
   "source": [
    "#3.1\n",
    "flag = false\n",
    "n = 1\n",
    "while !flag\n",
    "    if (n * (n - 1)/2) > 100\n",
    "        flag = true\n",
    "    else\n",
    "        n += 1\n",
    "    end\n",
    "end \n",
    "println(\"Ans:\")\n",
    "print(floor(Int, (n * (n - 1)/2) + n))"
   ]
  },
  {
   "cell_type": "code",
   "execution_count": 46,
   "id": "a96168b5",
   "metadata": {},
   "outputs": [
    {
     "name": "stdout",
     "output_type": "stream",
     "text": [
      "Ans:\n",
      "120"
     ]
    }
   ],
   "source": [
    "#3.2\n",
    "using Combinatorics\n",
    "flag = false\n",
    "a = [1]\n",
    "n = 1\n",
    "while !flag\n",
    "    if length(collect(combinations(a, 2))) > 100\n",
    "        flag = true\n",
    "    else\n",
    "        n += 1\n",
    "        append!(a, [n])\n",
    "    end\n",
    "end \n",
    "println(\"Ans:\")\n",
    "print(length(collect(with_replacement_combinations(a, 2))))"
   ]
  },
  {
   "cell_type": "code",
   "execution_count": 61,
   "id": "9c0f9864",
   "metadata": {},
   "outputs": [
    {
     "name": "stdout",
     "output_type": "stream",
     "text": [
      "Ans:\n",
      "120"
     ]
    }
   ],
   "source": [
    "#3.3\n",
    "using Roots\n",
    "f(k) = (k * (k - 1)/2) - 100\n",
    "n = ceil(find_zero(f, (0, Inf)))\n",
    "println(\"Ans:\")\n",
    "print(floor(Int, (n * (n - 1)/2) + n))"
   ]
  },
  {
   "cell_type": "markdown",
   "id": "1f809979",
   "metadata": {},
   "source": [
    "## (111學測數A選填13）有一款線上遊戲推出「十連抽」的抽卡機制，「十連抽」意思為系統自動做十次的抽卡 動作。若每次「十連抽」需用 1500 枚代幣，抽中金卡的機率在前九次皆為 2%，在第 十次為 10%。今某生有代幣 23000 枚，且不斷使用「十連抽」，抽到不能再抽為止。則某生抽到金卡張數的期望值為多少張？\n",
    "\n",
    "Hint: 幾個可以用、不一定全部用到的函數：`for` loop, `round()`, `trunc()`."
   ]
  },
  {
   "cell_type": "code",
   "execution_count": 64,
   "id": "fd94b132",
   "metadata": {},
   "outputs": [
    {
     "name": "stdout",
     "output_type": "stream",
     "text": [
      "Ans:\n",
      "4.2"
     ]
    }
   ],
   "source": [
    "n = 10 * floor(Int, 23000/1500)\n",
    "println(\"Ans:\")\n",
    "print(n * 9/10 * 0.02 + n * 1/10 * 0.1)"
   ]
  },
  {
   "cell_type": "markdown",
   "id": "c0b8b11f",
   "metadata": {},
   "source": [
    "## (111學測數B單選1) 試問有多少個整數 $x$ 滿足 $2|x| + x < 10$？\n",
    "\n",
    "Hint: 有很多方法，包括比較直覺的 `for` 或 `while` loops."
   ]
  },
  {
   "cell_type": "code",
   "execution_count": 76,
   "id": "6b808f8a",
   "metadata": {},
   "outputs": [
    {
     "name": "stdout",
     "output_type": "stream",
     "text": [
      "Ans:\n",
      "13"
     ]
    }
   ],
   "source": [
    "using Roots\n",
    "n = 0\n",
    "fpos(x) = 2*x + x - 10\n",
    "fneg(x) = -2*x + x - 10\n",
    "n += floor(find_zero(fpos, (-Inf, Inf)))\n",
    "find_zero(fneg, (-Inf, 0))\n",
    "n += abs(ceil(find_zero(fneg, (-Inf, Inf))))\n",
    "println(\"Ans:\")\n",
    "print(floor(Int, n))\n"
   ]
  },
  {
   "cell_type": "markdown",
   "id": "0c31d3ed",
   "metadata": {},
   "source": [
    "## (111學測數B單選2) 某燈會布置變色閃燈，每次啟動後的閃燈顏色會依照以下的順序做週期性變換:藍-白- 紅-白-藍-白-紅-白-藍-白-紅-白...，每四次一循環，其中藍光每次持續 5 秒，白光每次持 續 2 秒，而紅光每次持續 6 秒。假設換燈號的時間極短可被忽略，試算出啟動後第 99 至 101 秒之間的燈號。"
   ]
  },
  {
   "cell_type": "code",
   "execution_count": 86,
   "id": "52fc0f3e",
   "metadata": {},
   "outputs": [
    {
     "name": "stdout",
     "output_type": "stream",
     "text": [
      "Ans:\n",
      "Red"
     ]
    }
   ],
   "source": [
    "B = 5 #blue\n",
    "W = 2 #white\n",
    "R = 6 #red\n",
    "flag = false\n",
    "n = 1\n",
    "time = 0\n",
    "light = \"\"\n",
    "while !flag\n",
    "    if n % 4 == 1\n",
    "        time += B\n",
    "        light = \"Blue\"\n",
    "    elseif (n % 4 == 2) || (n % 4 == 0)\n",
    "        time += W\n",
    "        light = \"White\"\n",
    "    else\n",
    "        time += R\n",
    "        light = \"Red\"\n",
    "    end\n",
    "    if time >= 99\n",
    "        flag = true\n",
    "    end\n",
    "    n += 1\n",
    "end\n",
    "println(\"Ans:\")\n",
    "print(light)"
   ]
  },
  {
   "cell_type": "markdown",
   "id": "745b3253",
   "metadata": {},
   "source": [
    "## (111學測數B單選3) 有八棟大廈排成一列，由左至右分別編號 1, 2, 3, 4, 5, 6, 7, 8。今電信公司想選取其中三棟 大廈的屋頂分別設立一座電信基地台。若基地台不能設立於相鄰的兩棟大廈，以免訊號 互相干擾，試問在 3 號大廈不設立基地台的情況下，有多少種設立基地台的選取方法?\n",
    "\n",
    "Hint: 可以寫一個大的 `for` loop, 或用 Combinatorics 套件。"
   ]
  },
  {
   "cell_type": "code",
   "execution_count": 93,
   "id": "7e855c8f",
   "metadata": {},
   "outputs": [
    {
     "name": "stdout",
     "output_type": "stream",
     "text": [
      "Ans:\n",
      "13"
     ]
    }
   ],
   "source": [
    "list = collect(combinations([1,2,3,4,5,6,7,8], 3))\n",
    "n = 0 \n",
    "for i in 1:length(list)\n",
    "    if !(3 in list[i])\n",
    "        if (list[i][3] - list[i][2] > 1) && (list[i][2] - list[i][1] > 1)\n",
    "            n += 1 \n",
    "        end\n",
    "    end\n",
    "end\n",
    "println(\"Ans:\")\n",
    "print(n)"
   ]
  },
  {
   "cell_type": "markdown",
   "id": "7b04a212",
   "metadata": {},
   "source": [
    "## (111學測數B選填17) 有三女三男共六位在校時和老師常有互動的同學，畢業後老師邀聚餐，餐後七人站 一橫排照相留念。已知同學中有一女一男兩位曾有過不愉快，照相時不想相鄰，而 老師站在正中間且三位男生不完全站在老師的同一側，則可能的排列方式共有多少種? \n",
    "\n",
    "Hint: `factorial()`"
   ]
  },
  {
   "cell_type": "code",
   "execution_count": 104,
   "id": "8847fe13",
   "metadata": {},
   "outputs": [
    {
     "name": "stdout",
     "output_type": "stream",
     "text": [
      "Ans:\n",
      "456"
     ]
    }
   ],
   "source": [
    "list = [1,2,3,4,5,6,7]\n",
    "list = collect(permutations(list))\n",
    "n = 0\n",
    "for i in 1:length(list)\n",
    "    #get index\n",
    "    Tindex = findfirst(==(4), list[i])\n",
    "    bn = findfirst(==(1), list[i])\n",
    "    b1 = findfirst(==(2), list[i])\n",
    "    b2 = findfirst(==(3), list[i])\n",
    "    gn = findfirst(==(7), list[i])\n",
    "    g1 = findfirst(==(5), list[i])\n",
    "    g2 = findfirst(==(6), list[i])\n",
    "    \n",
    "    if Tindex == 4\n",
    "        if abs(bn - gn) != 1\n",
    "            if !(bn + b1 + b2 == 18 || bn + b1 + b2 == 6)\n",
    "                n += 1\n",
    "            end\n",
    "        end\n",
    "    end\n",
    "end\n",
    "println(\"Ans:\")\n",
    "print(n)"
   ]
  }
 ],
 "metadata": {
  "kernelspec": {
   "display_name": "Julia 1.8.5",
   "language": "julia",
   "name": "julia-1.8"
  },
  "language_info": {
   "file_extension": ".jl",
   "mimetype": "application/julia",
   "name": "julia",
   "version": "1.8.5"
  },
  "toc": {
   "base_numbering": 1,
   "nav_menu": {},
   "number_sections": true,
   "sideBar": true,
   "skip_h1_title": true,
   "title_cell": "Table of Contents",
   "title_sidebar": "Contents",
   "toc_cell": false,
   "toc_position": {
    "height": "calc(100% - 180px)",
    "left": "10px",
    "top": "150px",
    "width": "207.415px"
   },
   "toc_section_display": true,
   "toc_window_display": false
  }
 },
 "nbformat": 4,
 "nbformat_minor": 5
}
