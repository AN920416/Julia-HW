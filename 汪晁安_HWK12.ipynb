{
 "cells": [
  {
   "cell_type": "markdown",
   "id": "5d2de7e7",
   "metadata": {},
   "source": [
    "# Homework on Optimization\n",
    "\n",
    "In this homework, you are asked to write a series of optimization programs with specific requirements. When I do the grading, I'll call your programs and use them to find maximizers of functions that are not in the homework. Some advice:\n",
    "\n",
    "\n",
    "- The names of the programs should be the same as asked by the homework questions. Otherwise, your programs will not be found and that'll be a failure on your part.\n",
    "\n",
    "\n",
    "- Make sure that your programs are robust for general use.\n",
    "\n",
    "\n",
    "- Test your programs to see whether each of the options do their jobs as expected.\n",
    "\n",
    "\n",
    "\n",
    "## Consider the following functions for optimization:\n",
    "\n",
    "- $g(x) = -3x^3 + 9x^2 + 2x$\n",
    "\n",
    "\n",
    "- $h(x,y) =  -(1.5 - x)^2 - 100(y - x^2)^2$\n",
    "\n",
    "\n",
    "- $k(x,y) = - (x + 2y - 7)^2 - (2x + y -5)^2$\n",
    "\n",
    "\n",
    "\n",
    "\n",
    "### [Q1] Write a Julia program to implement Newton's method of finding the maximizer of a uni-variate function. The program should be named `newton_max_uni_a` (for ease of grading) and should meet the following requirements:\n",
    "\n",
    "\n",
    "- The inputs should at least contain the following items:\n",
    "\n",
    "```julia\n",
    "function newton_max_uni_a(f::Function, f′::Function, f′′::Function, x0, ϵ, maxit) \n",
    "    ...\n",
    "end\n",
    "```\n",
    "   where `f`, `f′`, and `f′′` are the analytic equations of the objective function and its first and second derivatives, respectively; `x0` is the initial value, `ϵ` is the tolerance of convergence criterion, and `maxit` is the maximum number of iterations.\n",
    "\n",
    "\n",
    "- Use the change in the solution as the basis to check convergence.\n",
    "\n",
    "\n",
    "- The program should be able to check whether the found solution is a maximizer or a minimizer (hint: check the 2nd order condition). If it is a minimizer instead of a maximizer, a warning should be issued.\n",
    "\n",
    "\n",
    "- The program should print at least the following information: the solution, the number of iterations, and actual ϵ. If the number of iterations equals `maxit` (meaning, the estimation may not have converged), a warning should be issued."
   ]
  },
  {
   "cell_type": "code",
   "execution_count": 12,
   "id": "c46b53ec",
   "metadata": {},
   "outputs": [
    {
     "data": {
      "text/plain": [
       "newton_max_uni_a (generic function with 1 method)"
      ]
     },
     "execution_count": 12,
     "metadata": {},
     "output_type": "execute_result"
    }
   ],
   "source": [
    "function newton_max_uni_a(f::Function, f′::Function, f′′::Function, x0, ϵ, maxit) \n",
    "    it = 1\n",
    "    prev = x0 - f′(x0)/f′′(x0)\n",
    "    new = 0\n",
    "    while true\n",
    "        new = prev - f′(prev)/f′′(prev)\n",
    "        if abs(f(new) - f(prev)) <= ϵ\n",
    "            break\n",
    "        end\n",
    "        it+=1\n",
    "        if it == maxit\n",
    "            break\n",
    "        end\n",
    "        prev = new\n",
    "    end\n",
    "    print(\"Maximized when x = \", prev,\"\\nϵ = \", abs(f(new) - f(prev)), \"\\nnumber of Iteration = \",it)\n",
    "    f′′(new) > 0 && print(\"\\nIt's a minimizer!\")\n",
    "    it == maxit && print(\"\\nMaxit reached!\")\n",
    "    print(\"\\n\\n\")\n",
    "end"
   ]
  },
  {
   "cell_type": "markdown",
   "id": "7216263c",
   "metadata": {},
   "source": [
    "#### [Q2] Use the program to estimate $g(x)$. Use 0.99 and 1.01 as initial values, respectively. Do they converge to the same solution? Does the result indicate that initial values are important for Newton's methods? In light of this exercise, do you think the Newton's method is a local method or a global method?"
   ]
  },
  {
   "cell_type": "code",
   "execution_count": 13,
   "id": "12630de6",
   "metadata": {},
   "outputs": [
    {
     "name": "stdout",
     "output_type": "stream",
     "text": [
      "Maximized when x = -0.10575144969619374\n",
      "ϵ = 4.382027188332138e-7\n",
      "number of Iteration = 9\n",
      "It's a minimizer!\n",
      "\n",
      "Maximized when x = 2.1057514496961938\n",
      "ϵ = 4.3820271855565807e-7\n",
      "number of Iteration = 9\n",
      "\n"
     ]
    }
   ],
   "source": [
    "g(x) = -3x^3 + 9x^2 + 2x\n",
    "g′(x) = -9*(x^2) + 18* x + 2\n",
    "g′′(x) = -18*x + 18\n",
    "newton_max_uni_a(g,g′,g′′,0.99, 0.0001, 1000)\n",
    "newton_max_uni_a(g,g′,g′′,1.01, 0.0001, 1000)\n",
    "\n",
    "#Yes, beacuse 1 is the inflection point of g(x), Newton's method is a local method."
   ]
  },
  {
   "cell_type": "markdown",
   "id": "09b974ca",
   "metadata": {},
   "source": [
    "#### [Q3] Use the program to estimate $g(x)$. Use 1.0 as the initial value.\n",
    "\n",
    " - [Q3.1] Why this initial value does not work for the program? Do you think that the problem arises because the function has an *inflection point* at $x=1.0$?"
   ]
  },
  {
   "cell_type": "markdown",
   "id": "c8af2388",
   "metadata": {},
   "source": [
    "   While x0 = 1.0, f′′(x0) = 0, so the problems arise when x0 is an inflection point."
   ]
  },
  {
   "cell_type": "markdown",
   "id": "e5eb7233",
   "metadata": {},
   "source": [
    " \n",
    " - [Q3.2] The problem indicates that the program would fail when the function is not smoothly increasing or increasing. Modify your program such that it could get out of the situation and move on. The program should be named `newton_max_uni_a2`. When you implement the rescue plan, be sure to make use of the fact that the purpose of the program is to **maximize** a function. Use the function to find the maximizer of $g(x)$."
   ]
  },
  {
   "cell_type": "code",
   "execution_count": 21,
   "id": "3156723c",
   "metadata": {},
   "outputs": [
    {
     "data": {
      "text/plain": [
       "newton_max_uni_a2 (generic function with 1 method)"
      ]
     },
     "execution_count": 21,
     "metadata": {},
     "output_type": "execute_result"
    }
   ],
   "source": [
    "function newton_max_uni_a2(f::Function, f′::Function, f′′::Function, x0, ϵ, maxit) \n",
    "    it = 1\n",
    "    if f′′(x0) == 0\n",
    "        if f′′(x0 + ϵ) < f′′(x0 - ϵ)\n",
    "            x0 += ϵ\n",
    "        else\n",
    "            x0 -= ϵ\n",
    "        end\n",
    "    end\n",
    "    \n",
    "    prev = x0 - f′(x0)/f′′(x0)\n",
    "    new = 0\n",
    "    while true\n",
    "        if f′′(prev) == 0\n",
    "            if f′′(x0 + ϵ) < 0\n",
    "                x0 += ϵ\n",
    "            else\n",
    "                x0 -= ϵ\n",
    "            end\n",
    "        end\n",
    "        new = prev - f′(prev)/f′′(prev)\n",
    "        if abs(f(new) - f(prev)) <= ϵ\n",
    "            break\n",
    "        end\n",
    "        it+=1\n",
    "        if it == maxit\n",
    "            break\n",
    "        end\n",
    "        prev = new\n",
    "    end\n",
    "    print(\"Maximized when x = \", prev,\"\\nϵ = \", abs(f(new) - f(prev)), \"\\nnumber of Iteration = \",it)\n",
    "    f′′(new) > 0 && print(\"\\nIt's a minimizer!\")\n",
    "    it == maxit && print(\"\\nMaxit reached!\")\n",
    "    print(\"\\n\\n\")\n",
    "end"
   ]
  },
  {
   "cell_type": "code",
   "execution_count": 22,
   "id": "a1d59c48",
   "metadata": {},
   "outputs": [
    {
     "name": "stdout",
     "output_type": "stream",
     "text": [
      "Maximized when x = 2.1055572878536073\n",
      "ϵ = 2.4497701645032066e-9\n",
      "number of Iteration = 16\n",
      "\n"
     ]
    }
   ],
   "source": [
    "g(x) = -3x^3 + 9x^2 + 2x\n",
    "g′(x) = -9*(x^2) + 18* x + 2\n",
    "g′′(x) = -18*x + 18\n",
    "newton_max_uni_a2(g,g′,g′′,1.0, 0.0001, 1000)\n"
   ]
  },
  {
   "cell_type": "markdown",
   "id": "99158255",
   "metadata": {},
   "source": [
    "#### [Q4] Modify the above program to meet the following specifications\n",
    "\n",
    "- Instead of requiring users to input analytic forms of the function's 1st and 2nd derivatives, use Julia's `ForwardDiff` to do it automatically. The program should be named `newton_max_uni_b`. The program should look like the following where the 1st and 2nd derivatives are calculated using `ForwardDiff` within the program. Estimate $g(x)$ using this program.\n",
    "\n",
    "```julia\n",
    "using ForwardDiff\n",
    "function newton_max_uni_b(f::Function, x0, ϵ, imax)\n",
    "    ....\n",
    "end\n",
    "```\n",
    "Hint: `Forward.derivative()` is your friend. You need to find out how to use it to calculate the 2nd derivative."
   ]
  },
  {
   "cell_type": "code",
   "execution_count": 40,
   "id": "208ee808",
   "metadata": {},
   "outputs": [
    {
     "data": {
      "text/plain": [
       "newton_max_uni_b (generic function with 1 method)"
      ]
     },
     "execution_count": 40,
     "metadata": {},
     "output_type": "execute_result"
    }
   ],
   "source": [
    "using ForwardDiff\n",
    "function newton_max_uni_b(f::Function, x0, ϵ, maxit) \n",
    "    f′(k) = ForwardDiff.derivative(f,k)\n",
    "    f′′(k) = ForwardDiff.derivative(x -> ForwardDiff.derivative(f, x), k)\n",
    "    it = 1\n",
    "    if f′′(x0) == 0\n",
    "        if f′′(x0 + ϵ) < f′′(x0 - ϵ)\n",
    "            x0 += ϵ\n",
    "        else\n",
    "            x0 -= ϵ\n",
    "        end\n",
    "    end\n",
    "    \n",
    "    prev = x0 - f′(x0)/f′′(x0)\n",
    "    new = 0\n",
    "    while true\n",
    "        if f′′(prev) == 0\n",
    "            if f′′(x0 + ϵ) < 0\n",
    "                x0 += ϵ\n",
    "            else\n",
    "                x0 -= ϵ\n",
    "            end\n",
    "        end\n",
    "        new = prev - f′(prev)/f′′(prev)\n",
    "        if abs(f(new) - f(prev)) <= ϵ\n",
    "            break\n",
    "        end\n",
    "        it+=1\n",
    "        if it == maxit\n",
    "            break\n",
    "        end\n",
    "        prev = new\n",
    "    end\n",
    "    print(\"Maximized when x = \", prev,\"\\nϵ = \", abs(f(new) - f(prev)), \"\\nnumber of Iteration = \",it)\n",
    "    f′′(new) > 0 && print(\"\\nIt's a minimizer!\")\n",
    "    it == maxit && print(\"\\nMaxit reached!\")\n",
    "    print(\"\\n\\n\")\n",
    "end"
   ]
  },
  {
   "cell_type": "code",
   "execution_count": 41,
   "id": "82364b4f",
   "metadata": {},
   "outputs": [
    {
     "name": "stdout",
     "output_type": "stream",
     "text": [
      "Maximized when x = 2.1055572878536073\n",
      "ϵ = 2.4497737172168854e-9\n",
      "number of Iteration = 16\n",
      "\n"
     ]
    }
   ],
   "source": [
    "g(x) = -3x^3 + 9x^2 + 2x\n",
    "newton_max_uni_b(g,1.0, 0.0001, 1000)\n"
   ]
  },
  {
   "cell_type": "markdown",
   "id": "1b7ae6f1",
   "metadata": {},
   "source": [
    "### [Q5] Write a Julia program to implement Newton's method of finding the maximizers of a multi-variate function. The program should meet the following requirements:\n",
    "\n",
    "- The program should be named `newton_max_a` (for ease of grading).\n",
    "\n",
    "\n",
    "- The inputs should at least contain the following items:\n",
    "\n",
    "```julia\n",
    "function newton_max_a(f::Function, init, ϵ, maxit) \n",
    "   ...\n",
    "end\n",
    "```\n",
    "   where `f` is the objective function, `init` is the vector of initial values, `ϵ` is the tolerance of convergence criterion, and `maxit` is the maximum number of iterations.\n",
    "   \n",
    "\n",
    "- The `f` is a function of `n` variables where `n` is larger than or equal to 1.\n",
    "   \n",
    "\n",
    "- Use `ForwardDiff` to calculate the gradient vector and the Hessian matrix.\n",
    "  - Hint: `ForwardDiff.gradient()` and `ForwardDiff.hessian()`.\n",
    "\n",
    "\n",
    "- Use the norm of the gradient as the basis to check convergence.\n",
    "  - Hint: Google how to calculate the norm of a vector in Julia.\n",
    "\n",
    "\n",
    "- The program should be able to check whether the found solution is a maximizer or a minimizer (hint: check whether the Hessian is positive definite or negative definite). If it is a minimizer instead of a maximizer, a warning should be issued.\n",
    "  - Hint: Google how to check a matrix's definite using Julia.\n",
    "\n",
    "\n",
    "- The program should print at least the following information: the solution, the number of iterations, and actual ϵ. If the number of iterations equals `maxit` (meaning, the estimation may not have converged), a warning should be issued."
   ]
  },
  {
   "cell_type": "code",
   "execution_count": 42,
   "id": "383cce4d",
   "metadata": {},
   "outputs": [
    {
     "data": {
      "text/plain": [
       "newton_max_a (generic function with 1 method)"
      ]
     },
     "execution_count": 42,
     "metadata": {},
     "output_type": "execute_result"
    }
   ],
   "source": [
    "using ForwardDiff, LinearAlgebra\n",
    "function newton_max_a(f::Function, init, ϵ, maxit) \n",
    "    it = 1\n",
    "    step = 50 * ϵ \n",
    "    prev = init\n",
    "    new = init\n",
    "    grad = ForwardDiff.gradient(f,prev)\n",
    "    hess = ForwardDiff.hessian(f,prev)\n",
    "    while true\n",
    "        grad = ForwardDiff.gradient(f,prev)\n",
    "        hess = ForwardDiff.hessian(f,prev)\n",
    "        new = prev + step .* inv(.-hess)*grad\n",
    "        gnorm = norm(grad)\n",
    "        if gnorm < ϵ\n",
    "            break\n",
    "        end\n",
    "        it += 1\n",
    "        if it >= maxit \n",
    "            break\n",
    "        end\n",
    "        prev = new\n",
    "    end\n",
    "    print(\"Sol: \",new,\"\\nNumber of iterations: \",it,\"\\nϵ: \", norm(new))\n",
    "    it == maxit && print(\"\\nMaxit reached!\")\n",
    "    if LinearAlgebra.isposdef(hess[:,:])\n",
    "        print(\"\\nIt's a minimizer!\")\n",
    "    end\n",
    "end"
   ]
  },
  {
   "cell_type": "markdown",
   "id": "4308eba1",
   "metadata": {},
   "source": [
    "#### [Q6] Use the program to estimate $h(x,y)$. Hint: Code the function as `h(x) = -(1.5 - x[1])^2 - 100*(x[2] - x[1]^2)^2` where `x` is a vector.\n",
    "\n",
    "\n",
    "#### [Q7] Use the program to estimate $k(x,y)$. Hint: Code the function as `k(x) = - (x[1] + 2*x[2] - 7)^2 - (2*x[1] + x[2] -5)^2` where `x` is a vector. The estimation should converge in 1 iteration.\n",
    "\n",
    "\n",
    "\n",
    "#### [Q8] Use the program to estimate $g(x)$. Hint: Code the function as `g(x) = -3*x[1]^3 + 9*x[1]^2 + 2*x[1]` where `x` is a vector."
   ]
  },
  {
   "cell_type": "code",
   "execution_count": 43,
   "id": "116661d0",
   "metadata": {},
   "outputs": [
    {
     "name": "stdout",
     "output_type": "stream",
     "text": [
      "Sol: [1.4962492726654986, 2.2387535398646086]\n",
      "Number of iterations: 1000\n",
      "ϵ: 2.6927271117230482\n",
      "Maxit reached!"
     ]
    }
   ],
   "source": [
    "x = [1,1]\n",
    "h(x) = -(1.5 - x[1])^2 - 100*(x[2] - x[1]^2)^2\n",
    "newton_max_a(h,x,0.0001,1000)"
   ]
  },
  {
   "cell_type": "code",
   "execution_count": 44,
   "id": "ee04b697",
   "metadata": {},
   "outputs": [
    {
     "name": "stdout",
     "output_type": "stream",
     "text": [
      "Sol: [1.0, 3.0]\n",
      "Number of iterations: 1\n",
      "ϵ: 3.1622776601683795"
     ]
    }
   ],
   "source": [
    "k(x) = - (x[1] + 2*x[2] - 7)^2 - (2*x[1] + x[2] -5)^2\n",
    "x = [1,3]\n",
    "newton_max_a(k,x,0.0001,1000)"
   ]
  },
  {
   "cell_type": "code",
   "execution_count": 45,
   "id": "ee07c1f0",
   "metadata": {},
   "outputs": [
    {
     "name": "stdout",
     "output_type": "stream",
     "text": [
      "Sol: [2.1048694513208703]\n",
      "Number of iterations: 1000\n",
      "ϵ: 2.1048694513208703\n",
      "Maxit reached!"
     ]
    }
   ],
   "source": [
    "g(x) = -3*x[1]^3 + 9*x[1]^2 + 2*x[1]\n",
    "x = [2]\n",
    "newton_max_a(g,x,0.0001,1000)"
   ]
  }
 ],
 "metadata": {
  "@webio": {
   "lastCommId": null,
   "lastKernelId": null
  },
  "kernelspec": {
   "display_name": "Julia 1.8.5",
   "language": "julia",
   "name": "julia-1.8"
  },
  "language_info": {
   "file_extension": ".jl",
   "mimetype": "application/julia",
   "name": "julia",
   "version": "1.8.5"
  },
  "toc": {
   "base_numbering": 1,
   "nav_menu": {},
   "number_sections": true,
   "sideBar": true,
   "skip_h1_title": false,
   "title_cell": "Table of Contents",
   "title_sidebar": "Contents",
   "toc_cell": false,
   "toc_position": {},
   "toc_section_display": true,
   "toc_window_display": false
  }
 },
 "nbformat": 4,
 "nbformat_minor": 5
}
