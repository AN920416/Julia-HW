{
 "cells": [
  {
   "cell_type": "markdown",
   "id": "e4d6c6b3",
   "metadata": {},
   "source": [
    "# Homework: Gaussian Quadrature Integration\n",
    "\n",
    "###### GH: Gauss-Hermite; GL: Gauss-Legendre; GLa: Gauss-Laguerre\n",
    "\n",
    "For all the problems, you may obtain $\\{\\omega_i, \\xi_i \\}$ directly from Julia's `FastGaussQuadrature` packages. For instance, `xi, wi = gausslegendre(20)` would give $\\{\\omega_i, \\xi_i \\}$, $i=1,\\ldots,20$, from the Gauss-Legendre rule."
   ]
  },
  {
   "cell_type": "code",
   "execution_count": 13,
   "id": "39e70800",
   "metadata": {},
   "outputs": [
    {
     "name": "stderr",
     "output_type": "stream",
     "text": [
      "\u001b[32m\u001b[1m   Resolving\u001b[22m\u001b[39m package versions...\n",
      "\u001b[32m\u001b[1m   Installed\u001b[22m\u001b[39m FastGaussQuadrature ─ v0.5.0\n",
      "\u001b[32m\u001b[1m    Updating\u001b[22m\u001b[39m `C:\\Users\\d3m2w\\.julia\\environments\\v1.8\\Project.toml`\n",
      " \u001b[90m [442a2c76] \u001b[39m\u001b[92m+ FastGaussQuadrature v0.5.0\u001b[39m\n",
      "\u001b[32m\u001b[1m    Updating\u001b[22m\u001b[39m `C:\\Users\\d3m2w\\.julia\\environments\\v1.8\\Manifest.toml`\n",
      " \u001b[90m [442a2c76] \u001b[39m\u001b[92m+ FastGaussQuadrature v0.5.0\u001b[39m\n",
      "\u001b[32m\u001b[1mPrecompiling\u001b[22m\u001b[39m project...\n",
      "\u001b[32m  ✓ \u001b[39mFastGaussQuadrature\n",
      "  1 dependency successfully precompiled in 3 seconds. 222 already precompiled.\n"
     ]
    }
   ],
   "source": [
    "#Pkg.add(\"QuadGK\")\n",
    "#Pkg.add(\"FastGaussQuadrature\")"
   ]
  },
  {
   "cell_type": "markdown",
   "id": "bb23437c",
   "metadata": {},
   "source": [
    "## This problem asks you to adopt the Gauss-Hermite rule to an infinite integral where the weight function does not match.  The integration problem is:\n",
    "  $$\\begin{aligned}\n",
    "   I = \\int_{-\\infty}^\\infty g(x) d x =  \\int_{-\\infty}^\\infty \\exp\\left(-\\frac{1}{3}x^2\\right)\\sqrt{1+x^2} dx.\n",
    "  \\end{aligned}$$ \n",
    " "
   ]
  },
  {
   "cell_type": "markdown",
   "id": "756e7639",
   "metadata": {},
   "source": [
    "- ##### Let's do this without using changes of variables. \n",
    "  - Transform $g(x)$ to $e^{-x^2}f(x)$ so that the Gauss-Hermite rule could be applied. Write down the re-formulated integration problem explicitly and write down $f(x)$ explicitly.\n",
    "  - Write Julia code to integrate the function numerically."
   ]
  },
  {
   "cell_type": "markdown",
   "id": "52b67fcf",
   "metadata": {},
   "source": [
    " $$\\begin{aligned}\n",
    "   I =  \\int_{-\\infty}^\\infty \\exp(-x^2)\\exp\\left(\\frac{2}{3}x^2\\right)\\sqrt{1+x^2} dx.\n",
    "  \\end{aligned}$$ "
   ]
  },
  {
   "cell_type": "code",
   "execution_count": 2,
   "id": "de3dfd4d",
   "metadata": {},
   "outputs": [
    {
     "name": "stdout",
     "output_type": "stream",
     "text": [
      "4.563813002879844"
     ]
    }
   ],
   "source": [
    "#1.1\n",
    "using QuadGK\n",
    "answer = quadgk(x -> exp(-(x^2)/3)sqrt(1+x^2), -Inf, Inf)\n",
    "print(answer[1])"
   ]
  },
  {
   "cell_type": "markdown",
   "id": "3768a170",
   "metadata": {},
   "source": [
    "## Write a Julia function with the following specifications.\n",
    "  - It calculates $E[g(y)]$ for any arbitrary $g(y)$ where $y \\sim N(\\mu, \\sigma^2)$.\n",
    "  - User's inputs include $g(y)$, $\\mu$, $\\sigma^2$, and $n$.\n",
    "  - You may obtain $\\{\\omega_i, \\xi_i\\}$ directly from Julia's package.\n",
    "  - If $g(y) = 1 + 3y + y^2$, $y \\sim N(1,2)$, and $n=30$, the interface could be like `myInteg(1 + 3y + y^2, mean=1, variance=2, n=30)`, or, `myInteg(g, mean=1, variance=2, n=30)`.\n",
    "  - Hint: You may define the probability density function of $y$ using the `Distributions` package and then `pdf(Normal(mean, std.dev.),x)`."
   ]
  },
  {
   "cell_type": "code",
   "execution_count": 20,
   "id": "3b5f8d2b",
   "metadata": {},
   "outputs": [
    {
     "name": "stdout",
     "output_type": "stream",
     "text": [
      "6.999999999999993"
     ]
    }
   ],
   "source": [
    "using Distributions\n",
    "using FastGaussQuadrature\n",
    "function Intg(g, mean, vari, n)\n",
    "    xi, wi = gausshermite(n)\n",
    "    answer = sum( wi .* g.(sqrt(2*vari)*xi .+ mean))/sqrt(pi)\n",
    "end\n",
    "\n",
    "#test\n",
    "g(y) = 1+3*y+y^2\n",
    "print(Intg(g , 1, 2, 30))"
   ]
  },
  {
   "cell_type": "markdown",
   "id": "1dd07b13",
   "metadata": {},
   "source": [
    "## It is generally true that proper integrals (i.e., with finite domains) are numerically easier to deal with. But what if a problem is naturally a GH type with an infinite domain and we transform it to a GL problem with a finite domain? Is the GL rule better in this scenario? Let's find out the answer. Consider the following integration problem which is often encountered in econometric analysis. \n",
    "\n",
    "$$\\begin{aligned}\n",
    "      I = \\int_{-\\infty}^\\infty \\Phi\\left(\\frac{x-a}{b}\\right)\\phi(x) dx,\n",
    "\\end{aligned}$$\n",
    "\n",
    "where $X\\sim N(0,1)$ is a standard normal random variable, $\\phi(z)$ is the density function (PDF) of a random variable $z$, and $\\Phi(z)$ is the CDF of $z$.\n",
    "   - ##### Write a Julia function that uses the GH rule to approximate the integral. The program should be a function of $a$ and $b$.\n",
    "   - ##### Transform this problem to the GL type. What is the transformation rule and what is the Jacobian? Type the equations and show your work.\n",
    "   - ##### Write a Julia function that uses the GL rule to approximate the integral. The program should be a function of $a$ and $b$.\n",
    "   - ##### Suppose the required precision is 6 digits after the decimal. Compare the performances of these functions. Which one converges more quickly (smaller $n$)? You may pick values of $a$ and $b$ to do the comparison. You may draw graphs to compare the results.\n",
    "   - ##### Based on your results, is the GL rule always the most efficient?"
   ]
  },
  {
   "cell_type": "markdown",
   "id": "0f2f4a7b",
   "metadata": {},
   "source": [
    "Transform I to GL type.\n",
    "$$\\begin{aligned}\n",
    "      I = \\int_{-1}^1 \\Phi\\left(\\frac{\\frac{t}{1-t^2}-a}{b}\\right)\\phi(\\frac{t}{1-t^2})\\frac{t^2 + 1}{(t^2 -1)^2} dt,\n",
    "\\end{aligned}$$"
   ]
  },
  {
   "cell_type": "code",
   "execution_count": 73,
   "id": "0efe82bc",
   "metadata": {},
   "outputs": [
    {
     "name": "stdout",
     "output_type": "stream",
     "text": [
      "GH method needs n >= 35 to converge.\n",
      "GL method needs n >= 40 to converge.\n",
      "GL rule not always the most efficient."
     ]
    }
   ],
   "source": [
    "using Distributions\n",
    "using FastGaussQuadrature\n",
    "\n",
    "function IntgGH(a, b, n)\n",
    "    xi, wi = gausshermite(n)\n",
    "    g(x) = cdf(Normal(-a/b, 1/b), x) * pdf(Normal(0, 1), x) \n",
    "    x(t) = sqrt(2)*t\n",
    "    f(t) = g(x(t))*sqrt(2)/exp(-t^2)\n",
    "    answer = sum( wi .* f.(xi))\n",
    "end\n",
    "\n",
    "function IntgGL(a, b, n)\n",
    "    xi, wi = gausslegendre(n)\n",
    "    g(x) = cdf(Normal(-a/b, 1/b), x) * pdf(Normal(0, 1), x) \n",
    "    f(t) = g(t/(1-t^2))*(t^2+1)/((t^2-1)^2)\n",
    "    answer = sum( wi .* f.(xi))\n",
    "end\n",
    "\n",
    "prev = 0\n",
    "n = 0\n",
    "while true\n",
    "    n += 1\n",
    "    if round(prev; digits = 6) == round(IntgGH(1, 2 , n); digits = 6)\n",
    "        print(\"GH method needs n >= \",n,\" to converge.\\n\")\n",
    "        break\n",
    "    else\n",
    "        prev = IntgGH(1, 2 , n)\n",
    "    end\n",
    "end\n",
    "\n",
    "prev = 0\n",
    "n = 0\n",
    "while true\n",
    "    n += 1\n",
    "    if round(prev; digits = 6) == round(IntgGL(1, 2 , n); digits = 6)\n",
    "        print(\"GL method needs n >= \",n,\" to converge.\\n\")\n",
    "        break\n",
    "    else\n",
    "        prev = IntgGL(1, 2 , n)\n",
    "    end\n",
    "end\n",
    "print(\"GL rule not always the most efficient.\")"
   ]
  },
  {
   "cell_type": "markdown",
   "id": "b5240c60",
   "metadata": {},
   "source": [
    "## This problem asks you to consider an integration problem where it can be transformed to different types to use different Gaussian quadrature rules. Which one is the best? The integration problem is:\n",
    "\n",
    " $$\\begin{aligned}\n",
    " \\int_{a}^\\infty \\exp\\left(-\\frac{1}{100}x^2\\right)(1+x^2) dx,\n",
    " \\end{aligned}$$\n",
    "\n",
    "where $a$ is finite but not necessarily 0. This problem has some characteristics of the GLa and GH types: It has an exponential function, and by mapping $a$ to $-1$, $0$ or $-\\infty$ via change of variables, the domain would be of the GL, GLa and GH types, respectively. You are asked to perform the approximation using rules of each of the types and compare the performance. In the code, make $a$ a parameter that we can assign a value to it.\n",
    "\n",
    " - ##### Write Julia code that uses the GL rule to approximate the integral. \n",
    " - ##### Write Julia code that uses the GLa rule to approximate the integral. \n",
    " - ##### Write Julia code that uses the GH rule to approximate the integral. \n",
    " - ##### Suppose the required precision is 6 digits after the decimal. Compare the performances of these functions; drawing a graph will be useful. You may pick a value for $a$ in the comparison. \n",
    " - ##### According to your result above, which rule converges more quickly (smaller $n$)? What is the intuition behind the result?"
   ]
  },
  {
   "cell_type": "code",
   "execution_count": 20,
   "id": "0e260ed0",
   "metadata": {},
   "outputs": [
    {
     "name": "stdout",
     "output_type": "stream",
     "text": [
      "GLa method needs n >= 15 to converge.\n",
      "GL method needs n >= 93 to converge.\n",
      "I dunno how to map the domain to fit GH, so I skip that.\n",
      "GLa converges more quickly, because original domain is similar to GLa?"
     ]
    }
   ],
   "source": [
    "using Distributions\n",
    "using FastGaussQuadrature\n",
    "function IntgGLa(a, n)\n",
    "    xi, wi = gausslaguerre(n)\n",
    "    g(t) = exp(-(t-a)^2/100)*(1+(t-a)^2)\n",
    "    f(t) = g(t)/exp(-(t-a))\n",
    "    answer = sum( wi .* f.(xi))\n",
    "end\n",
    "\n",
    "function IntgGL(a, n)\n",
    "    xi, wi = gausslegendre(n)\n",
    "    g(t) = exp(-((a + (1+t)/(1-t))^2/100))*(1+(a + (1+t)/(1-t))^2)\n",
    "    f(t) = g(t)*(2/((t-1)^2))\n",
    "    answer = sum( wi .* f.(xi))\n",
    "end\n",
    "\n",
    "prev = 0\n",
    "n = 0\n",
    "\n",
    "while true\n",
    "    n += 1\n",
    "    if round(prev; digits = 6) == round(IntgGLa(1, n); digits = 6)\n",
    "        print(\"GLa method needs n >= \",n,\" to converge.\\n\")\n",
    "        break\n",
    "    else\n",
    "        prev = IntgGLa(1, n)\n",
    "    end\n",
    "end\n",
    "\n",
    "prev = 0\n",
    "n = 0\n",
    "while true\n",
    "    n += 1\n",
    "    if round(prev; digits = 6) == round(IntgGL(1, n); digits = 6)\n",
    "        print(\"GL method needs n >= \",n,\" to converge.\\n\")\n",
    "        break\n",
    "    else\n",
    "        prev = IntgGL(1, n)\n",
    "    end\n",
    "end\n",
    "print(\"I dunno how to map the domain to fit GH, so I skip that.\\n\")\n",
    "print(\"GLa converges more quickly, because original domain is similar to GLa?\")"
   ]
  },
  {
   "cell_type": "code",
   "execution_count": null,
   "id": "e7b97212",
   "metadata": {},
   "outputs": [],
   "source": []
  }
 ],
 "metadata": {
  "@webio": {
   "lastCommId": null,
   "lastKernelId": null
  },
  "kernelspec": {
   "display_name": "Julia 1.8.5",
   "language": "julia",
   "name": "julia-1.8"
  },
  "language_info": {
   "file_extension": ".jl",
   "mimetype": "application/julia",
   "name": "julia",
   "version": "1.8.5"
  },
  "toc": {
   "base_numbering": 1,
   "nav_menu": {},
   "number_sections": true,
   "sideBar": true,
   "skip_h1_title": false,
   "title_cell": "Table of Contents",
   "title_sidebar": "Contents",
   "toc_cell": false,
   "toc_position": {},
   "toc_section_display": true,
   "toc_window_display": false
  }
 },
 "nbformat": 4,
 "nbformat_minor": 5
}
