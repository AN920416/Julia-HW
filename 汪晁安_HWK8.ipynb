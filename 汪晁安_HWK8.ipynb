{
 "cells": [
  {
   "cell_type": "markdown",
   "id": "d68849a7",
   "metadata": {},
   "source": [
    "# Homework: Integration using Three Methods\n",
    "\n",
    "[//]: # \"未來：對一個 multi dimensional integration, 用 Gaussian quadrature 來做，然後與 QMC 比較。\"\n",
    "\n"
   ]
  },
  {
   "cell_type": "code",
   "execution_count": 11,
   "id": "b65e3e7f",
   "metadata": {},
   "outputs": [
    {
     "name": "stderr",
     "output_type": "stream",
     "text": [
      "\u001b[32m\u001b[1m   Resolving\u001b[22m\u001b[39m package versions...\n",
      "\u001b[32m\u001b[1m   Installed\u001b[22m\u001b[39m FastGaussQuadrature ─ v0.5.1\n",
      "\u001b[32m\u001b[1m    Updating\u001b[22m\u001b[39m `C:\\Users\\d3m2w\\.julia\\environments\\v1.8\\Project.toml`\n",
      " \u001b[90m [442a2c76] \u001b[39m\u001b[92m+ FastGaussQuadrature v0.5.1\u001b[39m\n",
      "\u001b[32m\u001b[1m    Updating\u001b[22m\u001b[39m `C:\\Users\\d3m2w\\.julia\\environments\\v1.8\\Manifest.toml`\n",
      " \u001b[90m [442a2c76] \u001b[39m\u001b[92m+ FastGaussQuadrature v0.5.1\u001b[39m\n",
      "\u001b[32m\u001b[1mPrecompiling\u001b[22m\u001b[39m project...\n",
      "\u001b[32m  ✓ \u001b[39mFastGaussQuadrature\n",
      "  1 dependency successfully precompiled in 3 seconds. 212 already precompiled.\n"
     ]
    }
   ],
   "source": [
    "import Pkg\n",
    "#Pkg.add(\"HCubature\")\n",
    "#Pkg.add(\"HaltonSequences\")\n",
    "Pkg.add(\"FastGaussQuadrature\")"
   ]
  },
  {
   "cell_type": "code",
   "execution_count": 10,
   "id": "bdc81840",
   "metadata": {},
   "outputs": [
    {
     "ename": "LoadError",
     "evalue": "ArgumentError: Package FastGaussQuadrature not found in current path.\n- Run `import Pkg; Pkg.add(\"FastGaussQuadrature\")` to install the FastGaussQuadrature package.",
     "output_type": "error",
     "traceback": [
      "ArgumentError: Package FastGaussQuadrature not found in current path.\n- Run `import Pkg; Pkg.add(\"FastGaussQuadrature\")` to install the FastGaussQuadrature package.",
      "",
      "Stacktrace:",
      " [1] macro expansion",
      "   @ .\\loading.jl:1163 [inlined]",
      " [2] macro expansion",
      "   @ .\\lock.jl:223 [inlined]",
      " [3] require(into::Module, mod::Symbol)",
      "   @ Base .\\loading.jl:1144"
     ]
    }
   ],
   "source": [
    "using HCubature, HaltonSequences, Statistics, FastGaussQuadrature, Plots, Interact, WebIO, StatsPlots, QuadGK, Distributions"
   ]
  },
  {
   "cell_type": "markdown",
   "id": "25c109a0",
   "metadata": {},
   "source": [
    "##  Let's redo the integration problem using QMC:\n",
    "\n",
    "  \\begin{aligned}\n",
    "   I = \\int_{-\\infty}^\\infty \\exp\\left(-\\frac{1}{3}x^2\\right)\\sqrt{1+x^2} dx.\n",
    "  \\end{aligned}\n",
    "  \n",
    "  - Use quasi Monte Carlo method to compute the following integration.\n",
    "  - transform the infinite domain to $[0,1]$; mind the Jacobian;\n",
    "  - draw Halton sequence from $[0,1]$;\n",
    "  - compute the integration with a given $n$.\n",
    "- Inspect the convergence path by computing $I$ using different values $n$, and draw a graph with $n$ and $I$ on the horizontal and vertical axes, respectively."
   ]
  },
  {
   "cell_type": "code",
   "execution_count": 3,
   "id": "332f9605",
   "metadata": {},
   "outputs": [
    {
     "ename": "LoadError",
     "evalue": "UndefVarError: Halton not defined",
     "output_type": "error",
     "traceback": [
      "UndefVarError: Halton not defined",
      "",
      "Stacktrace:",
      " [1] VariIntg(m::Int64)",
      "   @ Main .\\In[3]:5",
      " [2] top-level scope",
      "   @ .\\In[3]:12"
     ]
    }
   ],
   "source": [
    "function VariIntg(m)\n",
    "    x(t) = (2*t-1)/(t-t^2)\n",
    "    g(x) = exp(-(x^2)/3)sqrt(1+x^2)\n",
    "    f(t) = g(x(t))*(2*(t^2)-2*t+1)/(t^2-t)^2\n",
    "    halton = Halton(3, length = m)\n",
    "    answer = mean(f.(halton))\n",
    "    return answer\n",
    "end\n",
    "\n",
    "answer = []\n",
    "for n in 10:10:10000\n",
    "    push!(answer,VariIntg(n))\n",
    "end\n",
    "\n",
    "plot(range(0,100,length = 1000).*100,answer,label = \"Value of I\")"
   ]
  },
  {
   "cell_type": "markdown",
   "id": "e5406fdc",
   "metadata": {},
   "source": [
    "## \n",
    "Consider the following integration problem:\n",
    "\\begin{align}\n",
    "  I = \\int_a^1 c\\cdot x^{-k-1}(1-x)^{k+1}dx.\n",
    "\\end{align}\n",
    "Assume $a = 10^{-5}$, $c=10^{-9}$, and $k=2$."
   ]
  },
  {
   "cell_type": "markdown",
   "id": "56924711",
   "metadata": {},
   "source": [
    "### Plot (multiple) graphs of the integrand to have a basic understanding of the problem. As you can see from the equation, the integrand may be tricky when $x$ approaches 0 and when $x$ approaches 1. Therefore, plot the graphs that highlight the integrand's shape near x=0 and x=1."
   ]
  },
  {
   "cell_type": "code",
   "execution_count": 4,
   "id": "8ef18a9d",
   "metadata": {},
   "outputs": [
    {
     "ename": "LoadError",
     "evalue": "UndefVarError: plot not defined",
     "output_type": "error",
     "traceback": [
      "UndefVarError: plot not defined",
      "",
      "Stacktrace:",
      " [1] top-level scope",
      "   @ In[4]:2"
     ]
    }
   ],
   "source": [
    "f(x) = 10^(-9)*(x^-3)*(1-x)^3\n",
    "x0 = plot(f, xlim=(-0.05,0.05),ylim=(-0.05,0.05))\n",
    "x1 = plot(f, xlim=(0.95,1.05),ylim=(-1e-13,1e-13))\n",
    "plot(x0, x1)"
   ]
  },
  {
   "cell_type": "markdown",
   "id": "d57030c5",
   "metadata": {},
   "source": [
    "### Use the Gauss-Legendre rule to compute the integral. How many nodes are required to have a stable solution (say, five digits after the decimal point are unchanged) ? \n",
    "- Hint: A lot of nodes."
   ]
  },
  {
   "cell_type": "code",
   "execution_count": 5,
   "id": "c6e33993",
   "metadata": {},
   "outputs": [
    {
     "ename": "LoadError",
     "evalue": "UndefVarError: gausslegendre not defined",
     "output_type": "error",
     "traceback": [
      "UndefVarError: gausslegendre not defined",
      "",
      "Stacktrace:",
      " [1] GLIntg(n::Int64)",
      "   @ Main .\\In[5]:5",
      " [2] top-level scope",
      "   @ .\\In[5]:14"
     ]
    }
   ],
   "source": [
    "function GLIntg(n)\n",
    "    x(t) = (1e-5 + 1)/2 + t * (1 - 1e-5)/2\n",
    "    g(x) = 10^(-9)*(x^-3)*(1-x)^3\n",
    "    f(t) = g(x(t)) * (1 - 1e-5)/2\n",
    "    xi, wi = gausslegendre(n)\n",
    "    answer = sum( wi .* f.(xi))\n",
    "    return answer\n",
    "end\n",
    "\n",
    "prev = 0\n",
    "n = 100\n",
    "while true\n",
    "    n += 1\n",
    "    if round(prev; digits = 5) == round(GLIntg(n); digits = 5)\n",
    "        print(\"GL method needs n >= \",n,\" to converge.\\n\")\n",
    "        break\n",
    "    else\n",
    "        prev = GLIntg(n)\n",
    "    end\n",
    "end\n",
    "GLIntg(1148)"
   ]
  },
  {
   "cell_type": "markdown",
   "id": "6a798161",
   "metadata": {},
   "source": [
    "### Use both of the Monte Carlo method (with pseudo random numbers) and Quasi-Monte Carlo method (with the Halton sequence) to compute the integral. How long does the sequences need to be in order to have a stable solution (2 digits after the decimal point)? Which method, MC or QMC, uses smaller values of $n$?\n",
    "- Hint: A very long sequence.\n",
    "- Hint: The following generates a Halton sequence of length 100 with the base number=2: `using HaltonSequences;` `lds=Halton(2,100)`."
   ]
  },
  {
   "cell_type": "code",
   "execution_count": 6,
   "id": "2b944412",
   "metadata": {},
   "outputs": [
    {
     "ename": "LoadError",
     "evalue": "UndefVarError: Uniform not defined",
     "output_type": "error",
     "traceback": [
      "UndefVarError: Uniform not defined",
      "",
      "Stacktrace:",
      " [1] MCIntg(n::Int64)",
      "   @ Main .\\In[6]:6",
      " [2] top-level scope",
      "   @ .\\In[6]:15"
     ]
    }
   ],
   "source": [
    "#MC\n",
    "function MCIntg(n)\n",
    "    x(t) = 1e-5 + (1- 1e-5) * t\n",
    "    g(x) = 10^(-9)*(x^-3)*(1-x)^3\n",
    "    f(t) = g(x(t))*(1- 1e-5)\n",
    "    set = rand(Uniform(0, 1), n)\n",
    "    answer = sum(f.(set))\n",
    "    answer = answer / n\n",
    "    return answer\n",
    "end\n",
    "prev = 0\n",
    "n = 1000\n",
    "while true\n",
    "    n += 1\n",
    "    if round(prev; digits = 2) == round(MCIntg(n); digits = 2) \n",
    "        print(\"MC method needs n >= \",n,\" to converge.\\n\")\n",
    "        break\n",
    "    else\n",
    "        prev = MCIntg(n)\n",
    "    end\n",
    "end\n",
    "\n",
    "#QMC\n",
    "function QMCIntg(n)\n",
    "    lds = Halton(2,length = n)\n",
    "    x(t) = 1e-5 + (1- 1e-5) * t\n",
    "    g(x) = 10^(-9)*(x^-3)*(1-x)^3\n",
    "    f(t) = g(x(t))*(1- 1e-5)\n",
    "    answer = mean(f.(lds))\n",
    "    return answer\n",
    "end\n",
    "prev = 0\n",
    "n = 1000\n",
    "while true\n",
    "    n += 1\n",
    "    if round(prev; digits = 2) == round(QMCIntg(n); digits = 2) \n",
    "        print(\"QMC method needs n >= \",n,\" to converge.\\n\")\n",
    "        break\n",
    "    else\n",
    "        prev = QMCIntg(n)\n",
    "    end\n",
    "end\n",
    "\n",
    "MCanswer = []\n",
    "for n in 10000:10000:1000000\n",
    "    push!(MCanswer,MCIntg(n))\n",
    "end\n",
    "\n",
    "QMCanswer = []\n",
    "for n in 10000:10000:1000000\n",
    "    push!(QMCanswer,QMCIntg(n))\n",
    "end\n",
    "\n",
    "mcp = plot(range(0,1000,length = 100).*1000,MCanswer,label = \"Value of I\", ylim=(0,30))\n",
    "qmcp = plot(range(0,1000,length = 100).*1000,QMCanswer,label = \"Value of I\")\n",
    "plot(mcp, qmcp)\n",
    "#  It seems that it's hard to check convergence by  n, so I use graph to check, QMC converge faster, \n",
    "#  and looks like MC is hard to converge at this case."
   ]
  },
  {
   "cell_type": "markdown",
   "id": "bbcb2640",
   "metadata": {},
   "source": [
    "### Julia provides a package `QuadGK.jl` which has a function `quadgk()` that uses *adaptive quadratures* to do one-dimensional numerical integration. Use `using Pkg; Pkg.add(\"QuadGK.jl\")` to install it, and `using QuadGK` to call it.\n",
    "- Please read Section 1.3 on `Lec4 Numerical Integration - class.ipynb` to understand what is adaptive quadratures.\n",
    "- Use `quadgk()` function to compute the integration."
   ]
  },
  {
   "cell_type": "code",
   "execution_count": 7,
   "id": "f8eb5354",
   "metadata": {},
   "outputs": [
    {
     "ename": "LoadError",
     "evalue": "UndefVarError: quadgk not defined",
     "output_type": "error",
     "traceback": [
      "UndefVarError: quadgk not defined",
      "",
      "Stacktrace:",
      " [1] top-level scope",
      "   @ In[7]:1"
     ]
    }
   ],
   "source": [
    "quadgk(x -> 10^(-9)*(x^-3)*(1-x)^3, 1e-5, 1)"
   ]
  },
  {
   "cell_type": "markdown",
   "id": "18381263",
   "metadata": {},
   "source": [
    "### You tried several methods to calculate the integration: The Gauss-Legendre method, the quasi-Monte Carlo method using the Halton sequence, the Monte Carlo method using random draws, and the adaptive quadrature method. How would you rank the methods from the most efficient (in terms of using a smaller number of draws/points, which usually translates to shorter run time) to the least efficient? Please explain the possible reasons behind the most and the least efficient methods."
   ]
  },
  {
   "cell_type": "markdown",
   "id": "2a7c835b",
   "metadata": {},
   "source": [
    "1st: adaptive  \n",
    "2nd: Gauss-Legendre  \n",
    "3rd: QMC  \n",
    "4th: MC  \n",
    "Adaptive quadrature is the most efficient because it can deal with the region near 0 by divide domain into smaller one.  \n",
    "MC is the least efficient in this case, because the shape of the function is weird near 0, and random point is hard to reach that region, so it may need a very large n to converge, which is very inefficient.    "
   ]
  }
 ],
 "metadata": {
  "@webio": {
   "lastCommId": "b7260169805c4f318f27818879f5a7ea",
   "lastKernelId": "85696d1f-a471-41a5-9e47-5dd1dcd4d98c"
  },
  "kernelspec": {
   "display_name": "Julia 1.8.5",
   "language": "julia",
   "name": "julia-1.8"
  },
  "language_info": {
   "file_extension": ".jl",
   "mimetype": "application/julia",
   "name": "julia",
   "version": "1.8.5"
  },
  "toc": {
   "base_numbering": 1,
   "nav_menu": {},
   "number_sections": true,
   "sideBar": true,
   "skip_h1_title": false,
   "title_cell": "Table of Contents",
   "title_sidebar": "Contents",
   "toc_cell": false,
   "toc_position": {},
   "toc_section_display": true,
   "toc_window_display": false
  }
 },
 "nbformat": 4,
 "nbformat_minor": 5
}
