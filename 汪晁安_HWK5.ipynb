{
 "cells": [
  {
   "cell_type": "markdown",
   "id": "1d974d76",
   "metadata": {},
   "source": [
    "# Homework 3"
   ]
  },
  {
   "cell_type": "markdown",
   "id": "e4c0d8c0",
   "metadata": {},
   "source": [
    "## Consider the bivariate normal distribution we introduced in the class. Let's make the assumptions that  $\\mu_x = 0$, $\\mu_y = \\mu_y$, $\\sigma_x = \\sigma_x$, $\\sigma_y = 1$, and $\\rho=\\rho$.\n",
    "\n",
    "### Write down the conditional distributions of X and Y. Note that both of them would be normal distributions. (See Section 1.4.3 and 1.4.3.1 of the lecture note.)"
   ]
  },
  {
   "cell_type": "markdown",
   "id": "336959c5",
   "metadata": {},
   "source": [
    "\\begin{align}\n",
    "(X|Y=y) & \\sim N\\left(\\rho \\sigma_x(y-\\mu_y),\\quad \\sigma_x^2(1-\\rho^2) \\right),\\\\\n",
    "(Y|X=x) & \\sim N\\left( \\mu_y + \\rho x \\frac{1}{\\sigma_x},\\quad 1-\\rho^2 \\right).\n",
    "\\end{align}"
   ]
  },
  {
   "cell_type": "markdown",
   "id": "9c1f2359",
   "metadata": {},
   "source": [
    "### Write a Julia function of Gibbs sampler that allows users to choose: the number of sampling points $N$, the values of $\\mu_y$, $\\sigma_x$, $\\rho$, and initial values of $(x_0, y_0)$, and the number of burn-in points. You should follow the steps in Section 1.3 of the lecture note to draw $(x_n, y_n), n=1,\\ldots,N$.\n"
   ]
  },
  {
   "cell_type": "code",
   "execution_count": 9,
   "id": "4cd5ba6b",
   "metadata": {},
   "outputs": [
    {
     "data": {
      "text/plain": [
       "1×2 Matrix{Float64}:\n",
       " 0.00188744  0.999967"
      ]
     },
     "metadata": {},
     "output_type": "display_data"
    },
    {
     "data": {
      "text/plain": [
       "1×2 Matrix{Float64}:\n",
       " 1.00169  0.999648"
      ]
     },
     "metadata": {},
     "output_type": "display_data"
    },
    {
     "data": {
      "text/plain": [
       "0.7004814174095811"
      ]
     },
     "execution_count": 9,
     "metadata": {},
     "output_type": "execute_result"
    }
   ],
   "source": [
    "using Random, Statistics, Distributions\n",
    "\n",
    "function gibbs(;N, rho, iniX, iniY, miu, sigma, Nburn)\n",
    "    x = ones(N + Nburn)\n",
    "    y = ones(N + Nburn)\n",
    "    x[1] = iniX\n",
    "    y[1] = iniY\n",
    "    for n = 1:N + Nburn - 1\n",
    "        x[n + 1] = rand(Normal(rho * sigma * (y[n] - miu), sigma * sqrt(1-rho^2)))\n",
    "        y[n + 1] = rand(Normal(miu + rho * x[n + 1] / sigma, sqrt(1-rho^2))) \n",
    "    end\n",
    "    return x[1 + Nburn:end], y[1 + Nburn:end]\n",
    "end\n",
    "\n",
    "x, y = gibbs(N = 1000000, rho = 0.7, iniX = 1, iniY = 1, miu = 1, sigma = 1, Nburn=1000)\n",
    "\n",
    "# see if the statistics are close\n",
    "\n",
    "[mean(x) std(x)] |> display\n",
    "[mean(y) std(y)] |> display\n",
    "cor(x,y) \n"
   ]
  },
  {
   "cell_type": "markdown",
   "id": "42b36a91",
   "metadata": {},
   "source": [
    "### Draw a graph  similar to the one we showed in the class. Remember to add sliders for both $N$ and $\\rho$."
   ]
  }
 ],
 "metadata": {
  "kernelspec": {
   "display_name": "Julia 1.8.5",
   "language": "julia",
   "name": "julia-1.8"
  },
  "language_info": {
   "file_extension": ".jl",
   "mimetype": "application/julia",
   "name": "julia",
   "version": "1.8.5"
  },
  "toc": {
   "base_numbering": 1,
   "nav_menu": {},
   "number_sections": true,
   "sideBar": true,
   "skip_h1_title": true,
   "title_cell": "Table of Contents",
   "title_sidebar": "Contents",
   "toc_cell": false,
   "toc_position": {},
   "toc_section_display": true,
   "toc_window_display": false
  }
 },
 "nbformat": 4,
 "nbformat_minor": 5
}
