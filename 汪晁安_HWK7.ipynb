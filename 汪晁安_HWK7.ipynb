{
 "cells": [
  {
   "cell_type": "markdown",
   "id": "764a752f",
   "metadata": {},
   "source": [
    "### Homework: Monte Carlo Integration\n",
    "\n",
    "#### Consider the following integration problem:\n",
    "\n",
    "\\begin{aligned}\n",
    " I = \\int_a^b g(x) dx,\n",
    "\\end{aligned}\n",
    "\n",
    "where $\\{ a,b \\}$ = $\\{1, 2.5\\}$ and $g(x) = 1/(1+x^2)$.\n",
    "\n",
    "- Compute the expected value of $g(x)$: Write a Julia function to compute the expected value of $g(x)$ when $x \\in (a,b)$ using the Monte Carlo method. That is, compute $E[g(x)]$, $x \\in (a,b)$, which is NOT the same as the integration value $I$. The function should take $a$, $b$, and $n$ (the number of random draws) as inputs. The random numbers should be drawn from $[a,b]$. Show the numerical result with n=10,000.\n",
    "\n",
    "- Compute the integration value $I$: Write down the solution of the integration problem as a function of the expected value of $g(x)$. Write a Julia function to compute the value, where the function should take $a$, $b$, and $n$ (the number of random draws) as inputs. Do not use the change of variables (yet). Show the numerical result with n=10,000.\n",
    "\n",
    " - Hint: The previous two questions force you to recognize that the integration problem of $I$ may not be stated as the expected value of $g(x)$.\n",
    "\n",
    "- Compute the integration value $I$ using changes of variables: Write a Julia function which uses the change of variables to convert the problem's domain to $[0,1]$. The function should include the transformation rule and the Jacobian, and it should take $a$, $b$, and $n$ (the number of random draws) as inputs. Show the numerical result with n=10,000."
   ]
  },
  {
   "cell_type": "code",
   "execution_count": 9,
   "id": "562d8426",
   "metadata": {},
   "outputs": [
    {
     "name": "stdout",
     "output_type": "stream",
     "text": [
      "E[g(x)] = 0.2706667138814064\n",
      "I value = 0.4056702092220416\n",
      "I value by changing variables = 0.401939322897963"
     ]
    }
   ],
   "source": [
    "using Distributions\n",
    "\n",
    "function ExpextV(a, b, n)\n",
    "    g(x) = 1/(1 + x^2)\n",
    "    set = rand(Uniform(a, b), n)\n",
    "    answer = sum(g.(set))\n",
    "    answer = answer/ n\n",
    "    return answer\n",
    "end\n",
    "\n",
    "function Intg(a, b, n)\n",
    "    g(x) = 1/(1 + x^2)\n",
    "    set = rand(Uniform(a, b), n)\n",
    "    answer = sum(g.(set))\n",
    "    answer = (b - a) * answer / n\n",
    "    return answer\n",
    "end\n",
    "\n",
    "function VariIntg(a, b, n)\n",
    "    x(t) = a + (b - a) * t\n",
    "    g(x) = 1/(1 + x^2)\n",
    "    f(t) = g(x(t)) * (b - a)\n",
    "    set = rand(Uniform(0, 1), n)\n",
    "    answer = sum(f.(set))\n",
    "    answer = answer / n\n",
    "    return answer\n",
    "end\n",
    "\n",
    "print(\"E[g(x)] = \", ExpextV(1, 2.5, 10000), \"\\n\") # E[g(x)].\n",
    "print(\"I value = \", Intg(1, 2.5, 10000), \"\\n\") # I value.\n",
    "print(\"I value by changing variables = \", VariIntg(1, 2.5, 10000)) # I value by changing variables."
   ]
  },
  {
   "cell_type": "markdown",
   "id": "04d484e1",
   "metadata": {},
   "source": [
    "#### Consider the following integration problem: \n",
    "\\begin{aligned}\n",
    "   I = \\int_{-\\infty}^\\infty \\exp\\left(-\\frac{1}{3}x^2\\right)\\sqrt{1+x^2} dx.\n",
    "  \\end{aligned}\n",
    "  \n",
    "- Use Monte Carlo integration to compute the following integration.\n",
    "  - transform the infinite domain to $[0,1]$; mind the Jacobian;\n",
    "  - draw random numbers from $[0,1]$;\n",
    "  - compute the integration with a given $n$.\n",
    "- Inspect the convergence path by computing $I$ using different $n$, and draw a graph with $n$ and $I$ on the horizontal and vertical axes, respectively.\n",
    " \n",
    " "
   ]
  }
 ],
 "metadata": {
  "@webio": {
   "lastCommId": "b126a253-c40b-4eaa-b92c-c9ebe1a01d3d",
   "lastKernelId": "7fa4f9c5-f8e4-43bd-8c05-4827e6795d70"
  },
  "kernelspec": {
   "display_name": "Julia 1.8.5",
   "language": "julia",
   "name": "julia-1.8"
  },
  "language_info": {
   "file_extension": ".jl",
   "mimetype": "application/julia",
   "name": "julia",
   "version": "1.8.5"
  },
  "toc": {
   "base_numbering": 1,
   "nav_menu": {},
   "number_sections": true,
   "sideBar": true,
   "skip_h1_title": false,
   "title_cell": "Table of Contents",
   "title_sidebar": "Contents",
   "toc_cell": false,
   "toc_position": {},
   "toc_section_display": true,
   "toc_window_display": false
  }
 },
 "nbformat": 4,
 "nbformat_minor": 5
}
