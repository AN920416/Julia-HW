{
 "cells": [
  {
   "cell_type": "markdown",
   "metadata": {},
   "source": [
    "# Homework on Accept-Reject Sampling\n",
    "\n",
    "Suppose $X$ is a random variable that follows a half-normal distribution $N^+(0,2)$. Write an accept-reject program that uses the exponential distribution $Exp(2)$ as the proposal distribution to draw samples from $X$. The challenge is to find the value of `m`. \n",
    "\n",
    "\n",
    "## Draw the density plots of $X$ and $Exp(2)$ to visually inspect the distributions. What is the range in the values of $X$ that `m` is most likely to occur?\n",
    "\n",
    "\n",
    "## Write a program that calculates `m`. \n",
    "Hint: An _exact_ solution may be difficult and so an approximated value is enough. \n",
    "\n",
    "\n",
    "## Write an accept-reject sampling program for $X$ and use it to draw a random sample of 100,000 values.\n",
    "\n",
    "\n",
    "## Draw a histogram of the sample and overlay it with the theoretical density. Calculate the mean and the variance of the sample and compare them to the theoretical values. Are they close?"
   ]
  },
  {
   "cell_type": "code",
   "execution_count": null,
   "metadata": {},
   "outputs": [],
   "source": [
    "#using Pkg\n",
    "#Pkg.add(\"ForwardDiff\")"
   ]
  },
  {
   "cell_type": "code",
   "execution_count": null,
   "metadata": {},
   "outputs": [],
   "source": [
    "using Distributions, Plots, StatsPlots, StatsFuns, Roots, ForwardDiff"
   ]
  },
  {
   "cell_type": "code",
   "execution_count": null,
   "metadata": {},
   "outputs": [],
   "source": [
    "#1.1\n",
    "plot(x -> pdf(Truncated(Normal(0, sqrt(2)), 0, Inf),x),lw = 1,xlims = (0.5,1.5),label = \"X\")\n",
    "plot!(x -> 1.46 * pdf(Exponential(2),x),lw = 1,xlims = (0.5,1.5),label = \"Exp*1.46\")\n",
    "plot!(x -> 1.44 * pdf(Exponential(2),x),lw = 1,xlims = (0.5,1.5),label = \"Exp*1.44\")\n",
    "# Near 1."
   ]
  },
  {
   "cell_type": "code",
   "execution_count": null,
   "metadata": {},
   "outputs": [],
   "source": [
    "#1.2\n",
    "D(f) = x -> ForwardDiff.derivative(f,float(x))\n",
    "exp(x) = pdf(Exponential(2),x)\n",
    "halfnorm(x) = pdf(Truncated(Normal(0, sqrt(2)), 0, Inf),x)\n",
    "f(x) = exp(x)/halfnorm(x)\n",
    "x = fzero(D(f),0.9)\n",
    "findM(m) = m * exp(x) - halfnorm(x)\n",
    "M = fzero(findM,1)\n",
    "print(\"M = \",M)\n",
    "plot(x -> pdf(Truncated(Normal(0, sqrt(2)), 0, Inf),x),lw = 1,xlims = (0.0,15),label = \"X\")\n",
    "plot!(x -> M * pdf(Exponential(2),x),lw = 1,xlims = (0.0,15),label = \"Exp*m\")"
   ]
  },
  {
   "cell_type": "code",
   "execution_count": null,
   "metadata": {},
   "outputs": [],
   "source": [
    "#1.3, 1.4\n",
    "Y = [0.0]\n",
    "f(x) = pdf(Truncated(Normal(0, sqrt(2)), 0, Inf),x)\n",
    "Mexp(x) = M*pdf(Exponential(2),x)\n",
    "for i in 1:100000\n",
    "    xtmp = rand(Exponential(2))\n",
    "    ytmp = rand(Uniform(0,Mexp(xtmp)))\n",
    "    if ytmp <= f(xtmp)\n",
    "        append!(Y,xtmp)\n",
    "    end\n",
    "end\n",
    "histogram(Y,normalize = true,label = \"sample\")\n",
    "plot!(x -> pdf(Truncated(Normal(0, sqrt(2)), 0, Inf),x),lw = 1,xlims = xlims(),label = \"theoretical\")\n"
   ]
  },
  {
   "cell_type": "code",
   "execution_count": null,
   "metadata": {},
   "outputs": [],
   "source": [
    "theo_mean = sqrt(2)*sqrt(2/π)\n",
    "theo_var = 2 * (1 - 2/π)\n",
    "print(theo_mean,\" \", theo_var,\"\\n\")\n",
    "print(mean(Y),\" \",var(Y),\"\\n\")"
   ]
  }
 ],
 "metadata": {
  "@webio": {
   "lastCommId": null,
   "lastKernelId": null
  },
  "kernelspec": {
   "display_name": "Julia 1.8.5",
   "language": "julia",
   "name": "julia-1.8"
  },
  "language_info": {
   "file_extension": ".jl",
   "mimetype": "application/julia",
   "name": "julia",
   "version": "1.8.5"
  },
  "toc": {
   "base_numbering": 1,
   "nav_menu": {},
   "number_sections": true,
   "sideBar": true,
   "skip_h1_title": false,
   "title_cell": "Table of Contents",
   "title_sidebar": "Contents",
   "toc_cell": false,
   "toc_position": {},
   "toc_section_display": true,
   "toc_window_display": false
  }
 },
 "nbformat": 4,
 "nbformat_minor": 4
}
