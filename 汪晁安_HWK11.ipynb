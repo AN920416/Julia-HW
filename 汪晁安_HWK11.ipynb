{
 "cells": [
  {
   "cell_type": "markdown",
   "id": "ddf7c8c7",
   "metadata": {},
   "source": [
    "# Homework\n",
    "\n",
    "[//]: # \"##### Write a Julia function of the bisection method that has the following specifications.\n",
    "\n",
    "- The function name has to be `bisection_a`. (So that TA can test your code by simply pasting a test code to your homework.)\n",
    "\n",
    "- An example of its usage is: `bisection_a(f, -1, 2, 1e-6, 10)`\n",
    "   - `f` is the name of a function to be subjected for root-finding,   \n",
    "   - `-1` is the lower bound of the initial bracket,\n",
    "   - `2` is the upper bound of the initial bracket,\n",
    "   - `1e-6` is the convergence criterion,\n",
    "   - `10` is the maximum number of iterations.\n",
    "   \n",
    "- It should check whether the initial bracket contains the root.   \n",
    "   \n",
    "- If it hits the maximum number of iterations before convergence, it should print the result from the last iteration with an informative error message.\n",
    "\n",
    "-  Consider the function $f(x) = x^3 + 4x^2 - 10$. \n",
    "  - Plot the function using `Plots`.\n",
    "  - Use `bisection_a` to find the root of $f(x)$.\"\n",
    "\n",
    "\n",
    "\n",
    "\n",
    "\n",
    "\n",
    "## The following `bisection` is a Julia program for root finding using the bisection method.\n",
    "- Add comments to places marked by `##` to explain the lines.\n",
    "  - For instance (a silly example): `iter=1   ## starts the iteration count`.\n",
    "  - Your comments should be more extensive than what you normally do for your own code, because the purpose is to see if you understand the purpose of the code.\n",
    "-  Consider the function $f(x) = x^3 + 4x^2 - 10$. \n",
    "  - Plot the function using the `Plots` package.\n",
    "  - Use `bisection` to find the root of $f(x)$.  "
   ]
  },
  {
   "cell_type": "code",
   "execution_count": 10,
   "id": "6b65e8cc",
   "metadata": {},
   "outputs": [
    {
     "data": {
      "text/plain": [
       "bisection (generic function with 1 method)"
      ]
     },
     "execution_count": 10,
     "metadata": {},
     "output_type": "execute_result"
    }
   ],
   "source": [
    "function bisection(f::Function,a,b,eps,imax)\n",
    "    \n",
    "    f(a)f(b)<0 || throw(\"The ($a, $b) does not contain the solution.\")  ##如果區間內沒有root，回傳錯誤訊息\n",
    "    \n",
    "    iter=1                           \n",
    "    p=0.0      \n",
    "    while iter<=imax                  ##限制最大迭代次數\n",
    "        p = a+(b-a)/2                 ##取區段中點   \n",
    "        if f(p)==0 || abs(a-b)<eps    ##確認區段終點是否為根或足夠接近根\n",
    "            return println(\"p is $p and the iteration number is $iter\")\n",
    "        end      \n",
    "    \n",
    "        f(a)f(p)<0 ? b=p : a=p        ##依勘根定理決定下一次用[a:p]或[[p:b]迭代\n",
    "        \n",
    "        iter += 1\n",
    "    end\n",
    "    y=f(p)                            ##計算最後一次迭代的值   \n",
    "    println(\"Maximum number of iterations is researched and the method did not converge. The last iteration gives $p with function value $y\")   ##無法收斂則回傳最後一次的p\n",
    "end\n"
   ]
  },
  {
   "cell_type": "code",
   "execution_count": 15,
   "id": "b8c7ed22",
   "metadata": {},
   "outputs": [
    {
     "name": "stdout",
     "output_type": "stream",
     "text": [
      "p is 1.365203857421875 and the iteration number is 16\n"
     ]
    },
    {
     "data": {
      "image/svg+xml": [
       "<?xml version=\"1.0\" encoding=\"utf-8\"?>\n",
       "<svg xmlns=\"http://www.w3.org/2000/svg\" xmlns:xlink=\"http://www.w3.org/1999/xlink\" width=\"600\" height=\"400\" viewBox=\"0 0 2400 1600\">\n",
       "<defs>\n",
       "  <clipPath id=\"clip110\">\n",
       "    <rect x=\"0\" y=\"0\" width=\"2400\" height=\"1600\"/>\n",
       "  </clipPath>\n",
       "</defs>\n",
       "<path clip-path=\"url(#clip110)\" d=\"M0 1600 L2400 1600 L2400 0 L0 0  Z\" fill=\"#ffffff\" fill-rule=\"evenodd\" fill-opacity=\"1\"/>\n",
       "<defs>\n",
       "  <clipPath id=\"clip111\">\n",
       "    <rect x=\"480\" y=\"0\" width=\"1681\" height=\"1600\"/>\n",
       "  </clipPath>\n",
       "</defs>\n",
       "<path clip-path=\"url(#clip110)\" d=\"M170.857 1486.45 L2352.76 1486.45 L2352.76 47.2441 L170.857 47.2441  Z\" fill=\"#ffffff\" fill-rule=\"evenodd\" fill-opacity=\"1\"/>\n",
       "<defs>\n",
       "  <clipPath id=\"clip112\">\n",
       "    <rect x=\"170\" y=\"47\" width=\"2183\" height=\"1440\"/>\n",
       "  </clipPath>\n",
       "</defs>\n",
       "<polyline clip-path=\"url(#clip112)\" style=\"stroke:#000000; stroke-linecap:round; stroke-linejoin:round; stroke-width:2; stroke-opacity:0.1; fill:none\" points=\"438.449,1486.45 438.449,47.2441 \"/>\n",
       "<polyline clip-path=\"url(#clip112)\" style=\"stroke:#000000; stroke-linecap:round; stroke-linejoin:round; stroke-width:2; stroke-opacity:0.1; fill:none\" points=\"850.128,1486.45 850.128,47.2441 \"/>\n",
       "<polyline clip-path=\"url(#clip112)\" style=\"stroke:#000000; stroke-linecap:round; stroke-linejoin:round; stroke-width:2; stroke-opacity:0.1; fill:none\" points=\"1261.81,1486.45 1261.81,47.2441 \"/>\n",
       "<polyline clip-path=\"url(#clip112)\" style=\"stroke:#000000; stroke-linecap:round; stroke-linejoin:round; stroke-width:2; stroke-opacity:0.1; fill:none\" points=\"1673.49,1486.45 1673.49,47.2441 \"/>\n",
       "<polyline clip-path=\"url(#clip112)\" style=\"stroke:#000000; stroke-linecap:round; stroke-linejoin:round; stroke-width:2; stroke-opacity:0.1; fill:none\" points=\"2085.16,1486.45 2085.16,47.2441 \"/>\n",
       "<polyline clip-path=\"url(#clip110)\" style=\"stroke:#000000; stroke-linecap:round; stroke-linejoin:round; stroke-width:4; stroke-opacity:1; fill:none\" points=\"170.857,1486.45 2352.76,1486.45 \"/>\n",
       "<polyline clip-path=\"url(#clip110)\" style=\"stroke:#000000; stroke-linecap:round; stroke-linejoin:round; stroke-width:4; stroke-opacity:1; fill:none\" points=\"438.449,1486.45 438.449,1467.55 \"/>\n",
       "<polyline clip-path=\"url(#clip110)\" style=\"stroke:#000000; stroke-linecap:round; stroke-linejoin:round; stroke-width:4; stroke-opacity:1; fill:none\" points=\"850.128,1486.45 850.128,1467.55 \"/>\n",
       "<polyline clip-path=\"url(#clip110)\" style=\"stroke:#000000; stroke-linecap:round; stroke-linejoin:round; stroke-width:4; stroke-opacity:1; fill:none\" points=\"1261.81,1486.45 1261.81,1467.55 \"/>\n",
       "<polyline clip-path=\"url(#clip110)\" style=\"stroke:#000000; stroke-linecap:round; stroke-linejoin:round; stroke-width:4; stroke-opacity:1; fill:none\" points=\"1673.49,1486.45 1673.49,1467.55 \"/>\n",
       "<polyline clip-path=\"url(#clip110)\" style=\"stroke:#000000; stroke-linecap:round; stroke-linejoin:round; stroke-width:4; stroke-opacity:1; fill:none\" points=\"2085.16,1486.45 2085.16,1467.55 \"/>\n",
       "<path clip-path=\"url(#clip110)\" d=\"M407.349 1532.02 L437.025 1532.02 L437.025 1535.95 L407.349 1535.95 L407.349 1532.02 Z\" fill=\"#000000\" fill-rule=\"evenodd\" fill-opacity=\"1\" /><path clip-path=\"url(#clip110)\" d=\"M459.965 1518.36 L448.159 1536.81 L459.965 1536.81 L459.965 1518.36 M458.738 1514.29 L464.618 1514.29 L464.618 1536.81 L469.548 1536.81 L469.548 1540.7 L464.618 1540.7 L464.618 1548.85 L459.965 1548.85 L459.965 1540.7 L444.363 1540.7 L444.363 1536.19 L458.738 1514.29 Z\" fill=\"#000000\" fill-rule=\"evenodd\" fill-opacity=\"1\" /><path clip-path=\"url(#clip110)\" d=\"M820.07 1532.02 L849.746 1532.02 L849.746 1535.95 L820.07 1535.95 L820.07 1532.02 Z\" fill=\"#000000\" fill-rule=\"evenodd\" fill-opacity=\"1\" /><path clip-path=\"url(#clip110)\" d=\"M863.866 1544.91 L880.185 1544.91 L880.185 1548.85 L858.241 1548.85 L858.241 1544.91 Q860.903 1542.16 865.486 1537.53 Q870.093 1532.88 871.273 1531.53 Q873.519 1529.01 874.398 1527.27 Q875.301 1525.51 875.301 1523.82 Q875.301 1521.07 873.357 1519.33 Q871.435 1517.6 868.334 1517.6 Q866.135 1517.6 863.681 1518.36 Q861.25 1519.13 858.473 1520.68 L858.473 1515.95 Q861.297 1514.82 863.75 1514.24 Q866.204 1513.66 868.241 1513.66 Q873.611 1513.66 876.806 1516.35 Q880 1519.03 880 1523.52 Q880 1525.65 879.19 1527.57 Q878.403 1529.47 876.297 1532.07 Q875.718 1532.74 872.616 1535.95 Q869.514 1539.15 863.866 1544.91 Z\" fill=\"#000000\" fill-rule=\"evenodd\" fill-opacity=\"1\" /><path clip-path=\"url(#clip110)\" d=\"M1261.81 1517.37 Q1258.2 1517.37 1256.37 1520.93 Q1254.56 1524.47 1254.56 1531.6 Q1254.56 1538.71 1256.37 1542.27 Q1258.2 1545.82 1261.81 1545.82 Q1265.44 1545.82 1267.25 1542.27 Q1269.08 1538.71 1269.08 1531.6 Q1269.08 1524.47 1267.25 1520.93 Q1265.44 1517.37 1261.81 1517.37 M1261.81 1513.66 Q1267.62 1513.66 1270.67 1518.27 Q1273.75 1522.85 1273.75 1531.6 Q1273.75 1540.33 1270.67 1544.94 Q1267.62 1549.52 1261.81 1549.52 Q1256 1549.52 1252.92 1544.94 Q1249.86 1540.33 1249.86 1531.6 Q1249.86 1522.85 1252.92 1518.27 Q1256 1513.66 1261.81 1513.66 Z\" fill=\"#000000\" fill-rule=\"evenodd\" fill-opacity=\"1\" /><path clip-path=\"url(#clip110)\" d=\"M1668.14 1544.91 L1684.46 1544.91 L1684.46 1548.85 L1662.51 1548.85 L1662.51 1544.91 Q1665.18 1542.16 1669.76 1537.53 Q1674.37 1532.88 1675.55 1531.53 Q1677.79 1529.01 1678.67 1527.27 Q1679.57 1525.51 1679.57 1523.82 Q1679.57 1521.07 1677.63 1519.33 Q1675.71 1517.6 1672.61 1517.6 Q1670.41 1517.6 1667.95 1518.36 Q1665.52 1519.13 1662.74 1520.68 L1662.74 1515.95 Q1665.57 1514.82 1668.02 1514.24 Q1670.48 1513.66 1672.51 1513.66 Q1677.88 1513.66 1681.08 1516.35 Q1684.27 1519.03 1684.27 1523.52 Q1684.27 1525.65 1683.46 1527.57 Q1682.68 1529.47 1680.57 1532.07 Q1679.99 1532.74 1676.89 1535.95 Q1673.79 1539.15 1668.14 1544.91 Z\" fill=\"#000000\" fill-rule=\"evenodd\" fill-opacity=\"1\" /><path clip-path=\"url(#clip110)\" d=\"M2088.17 1518.36 L2076.37 1536.81 L2088.17 1536.81 L2088.17 1518.36 M2086.95 1514.29 L2092.83 1514.29 L2092.83 1536.81 L2097.76 1536.81 L2097.76 1540.7 L2092.83 1540.7 L2092.83 1548.85 L2088.17 1548.85 L2088.17 1540.7 L2072.57 1540.7 L2072.57 1536.19 L2086.95 1514.29 Z\" fill=\"#000000\" fill-rule=\"evenodd\" fill-opacity=\"1\" /><polyline clip-path=\"url(#clip112)\" style=\"stroke:#000000; stroke-linecap:round; stroke-linejoin:round; stroke-width:2; stroke-opacity:0.1; fill:none\" points=\"170.857,1255.63 2352.76,1255.63 \"/>\n",
       "<polyline clip-path=\"url(#clip112)\" style=\"stroke:#000000; stroke-linecap:round; stroke-linejoin:round; stroke-width:2; stroke-opacity:0.1; fill:none\" points=\"170.857,984.084 2352.76,984.084 \"/>\n",
       "<polyline clip-path=\"url(#clip112)\" style=\"stroke:#000000; stroke-linecap:round; stroke-linejoin:round; stroke-width:2; stroke-opacity:0.1; fill:none\" points=\"170.857,712.536 2352.76,712.536 \"/>\n",
       "<polyline clip-path=\"url(#clip112)\" style=\"stroke:#000000; stroke-linecap:round; stroke-linejoin:round; stroke-width:2; stroke-opacity:0.1; fill:none\" points=\"170.857,440.989 2352.76,440.989 \"/>\n",
       "<polyline clip-path=\"url(#clip112)\" style=\"stroke:#000000; stroke-linecap:round; stroke-linejoin:round; stroke-width:2; stroke-opacity:0.1; fill:none\" points=\"170.857,169.441 2352.76,169.441 \"/>\n",
       "<polyline clip-path=\"url(#clip110)\" style=\"stroke:#000000; stroke-linecap:round; stroke-linejoin:round; stroke-width:4; stroke-opacity:1; fill:none\" points=\"170.857,1486.45 170.857,47.2441 \"/>\n",
       "<polyline clip-path=\"url(#clip110)\" style=\"stroke:#000000; stroke-linecap:round; stroke-linejoin:round; stroke-width:4; stroke-opacity:1; fill:none\" points=\"170.857,1255.63 189.755,1255.63 \"/>\n",
       "<polyline clip-path=\"url(#clip110)\" style=\"stroke:#000000; stroke-linecap:round; stroke-linejoin:round; stroke-width:4; stroke-opacity:1; fill:none\" points=\"170.857,984.084 189.755,984.084 \"/>\n",
       "<polyline clip-path=\"url(#clip110)\" style=\"stroke:#000000; stroke-linecap:round; stroke-linejoin:round; stroke-width:4; stroke-opacity:1; fill:none\" points=\"170.857,712.536 189.755,712.536 \"/>\n",
       "<polyline clip-path=\"url(#clip110)\" style=\"stroke:#000000; stroke-linecap:round; stroke-linejoin:round; stroke-width:4; stroke-opacity:1; fill:none\" points=\"170.857,440.989 189.755,440.989 \"/>\n",
       "<polyline clip-path=\"url(#clip110)\" style=\"stroke:#000000; stroke-linecap:round; stroke-linejoin:round; stroke-width:4; stroke-opacity:1; fill:none\" points=\"170.857,169.441 189.755,169.441 \"/>\n",
       "<path clip-path=\"url(#clip110)\" d=\"M122.913 1241.43 Q119.302 1241.43 117.473 1245 Q115.668 1248.54 115.668 1255.67 Q115.668 1262.77 117.473 1266.34 Q119.302 1269.88 122.913 1269.88 Q126.547 1269.88 128.353 1266.34 Q130.182 1262.77 130.182 1255.67 Q130.182 1248.54 128.353 1245 Q126.547 1241.43 122.913 1241.43 M122.913 1237.73 Q128.723 1237.73 131.779 1242.33 Q134.857 1246.92 134.857 1255.67 Q134.857 1264.39 131.779 1269 Q128.723 1273.58 122.913 1273.58 Q117.103 1273.58 114.024 1269 Q110.969 1264.39 110.969 1255.67 Q110.969 1246.92 114.024 1242.33 Q117.103 1237.73 122.913 1237.73 Z\" fill=\"#000000\" fill-rule=\"evenodd\" fill-opacity=\"1\" /><path clip-path=\"url(#clip110)\" d=\"M82.7975 966.804 L101.154 966.804 L101.154 970.739 L87.0799 970.739 L87.0799 979.212 Q88.0984 978.864 89.1169 978.702 Q90.1354 978.517 91.1539 978.517 Q96.941 978.517 100.321 981.688 Q103.7 984.86 103.7 990.276 Q103.7 995.855 100.228 998.957 Q96.7558 1002.04 90.4364 1002.04 Q88.2604 1002.04 85.9919 1001.67 Q83.7466 1001.29 81.3392 1000.55 L81.3392 995.855 Q83.4225 996.989 85.6447 997.545 Q87.8669 998.1 90.3438 998.1 Q94.3484 998.1 96.6863 995.994 Q99.0243 993.887 99.0243 990.276 Q99.0243 986.665 96.6863 984.559 Q94.3484 982.452 90.3438 982.452 Q88.4688 982.452 86.5938 982.869 Q84.7419 983.286 82.7975 984.165 L82.7975 966.804 Z\" fill=\"#000000\" fill-rule=\"evenodd\" fill-opacity=\"1\" /><path clip-path=\"url(#clip110)\" d=\"M122.913 969.883 Q119.302 969.883 117.473 973.448 Q115.668 976.989 115.668 984.119 Q115.668 991.225 117.473 994.79 Q119.302 998.332 122.913 998.332 Q126.547 998.332 128.353 994.79 Q130.182 991.225 130.182 984.119 Q130.182 976.989 128.353 973.448 Q126.547 969.883 122.913 969.883 M122.913 966.179 Q128.723 966.179 131.779 970.786 Q134.857 975.369 134.857 984.119 Q134.857 992.846 131.779 997.452 Q128.723 1002.04 122.913 1002.04 Q117.103 1002.04 114.024 997.452 Q110.969 992.846 110.969 984.119 Q110.969 975.369 114.024 970.786 Q117.103 966.179 122.913 966.179 Z\" fill=\"#000000\" fill-rule=\"evenodd\" fill-opacity=\"1\" /><path clip-path=\"url(#clip110)\" d=\"M53.3995 725.881 L61.0384 725.881 L61.0384 699.516 L52.7282 701.182 L52.7282 696.923 L60.9921 695.256 L65.668 695.256 L65.668 725.881 L73.3068 725.881 L73.3068 729.816 L53.3995 729.816 L53.3995 725.881 Z\" fill=\"#000000\" fill-rule=\"evenodd\" fill-opacity=\"1\" /><path clip-path=\"url(#clip110)\" d=\"M92.7512 698.335 Q89.1401 698.335 87.3114 701.9 Q85.5058 705.442 85.5058 712.571 Q85.5058 719.678 87.3114 723.242 Q89.1401 726.784 92.7512 726.784 Q96.3854 726.784 98.1909 723.242 Q100.02 719.678 100.02 712.571 Q100.02 705.442 98.1909 701.9 Q96.3854 698.335 92.7512 698.335 M92.7512 694.631 Q98.5613 694.631 101.617 699.238 Q104.696 703.821 104.696 712.571 Q104.696 721.298 101.617 725.904 Q98.5613 730.488 92.7512 730.488 Q86.941 730.488 83.8623 725.904 Q80.8068 721.298 80.8068 712.571 Q80.8068 703.821 83.8623 699.238 Q86.941 694.631 92.7512 694.631 Z\" fill=\"#000000\" fill-rule=\"evenodd\" fill-opacity=\"1\" /><path clip-path=\"url(#clip110)\" d=\"M122.913 698.335 Q119.302 698.335 117.473 701.9 Q115.668 705.442 115.668 712.571 Q115.668 719.678 117.473 723.242 Q119.302 726.784 122.913 726.784 Q126.547 726.784 128.353 723.242 Q130.182 719.678 130.182 712.571 Q130.182 705.442 128.353 701.9 Q126.547 698.335 122.913 698.335 M122.913 694.631 Q128.723 694.631 131.779 699.238 Q134.857 703.821 134.857 712.571 Q134.857 721.298 131.779 725.904 Q128.723 730.488 122.913 730.488 Q117.103 730.488 114.024 725.904 Q110.969 721.298 110.969 712.571 Q110.969 703.821 114.024 699.238 Q117.103 694.631 122.913 694.631 Z\" fill=\"#000000\" fill-rule=\"evenodd\" fill-opacity=\"1\" /><path clip-path=\"url(#clip110)\" d=\"M53.3995 454.333 L61.0384 454.333 L61.0384 427.968 L52.7282 429.634 L52.7282 425.375 L60.9921 423.709 L65.668 423.709 L65.668 454.333 L73.3068 454.333 L73.3068 458.269 L53.3995 458.269 L53.3995 454.333 Z\" fill=\"#000000\" fill-rule=\"evenodd\" fill-opacity=\"1\" /><path clip-path=\"url(#clip110)\" d=\"M82.7975 423.709 L101.154 423.709 L101.154 427.644 L87.0799 427.644 L87.0799 436.116 Q88.0984 435.769 89.1169 435.607 Q90.1354 435.421 91.1539 435.421 Q96.941 435.421 100.321 438.593 Q103.7 441.764 103.7 447.181 Q103.7 452.759 100.228 455.861 Q96.7558 458.94 90.4364 458.94 Q88.2604 458.94 85.9919 458.569 Q83.7466 458.199 81.3392 457.458 L81.3392 452.759 Q83.4225 453.894 85.6447 454.449 Q87.8669 455.005 90.3438 455.005 Q94.3484 455.005 96.6863 452.898 Q99.0243 450.792 99.0243 447.181 Q99.0243 443.57 96.6863 441.463 Q94.3484 439.357 90.3438 439.357 Q88.4688 439.357 86.5938 439.773 Q84.7419 440.19 82.7975 441.07 L82.7975 423.709 Z\" fill=\"#000000\" fill-rule=\"evenodd\" fill-opacity=\"1\" /><path clip-path=\"url(#clip110)\" d=\"M122.913 426.787 Q119.302 426.787 117.473 430.352 Q115.668 433.894 115.668 441.023 Q115.668 448.13 117.473 451.694 Q119.302 455.236 122.913 455.236 Q126.547 455.236 128.353 451.694 Q130.182 448.13 130.182 441.023 Q130.182 433.894 128.353 430.352 Q126.547 426.787 122.913 426.787 M122.913 423.084 Q128.723 423.084 131.779 427.69 Q134.857 432.273 134.857 441.023 Q134.857 449.75 131.779 454.357 Q128.723 458.94 122.913 458.94 Q117.103 458.94 114.024 454.357 Q110.969 449.75 110.969 441.023 Q110.969 432.273 114.024 427.69 Q117.103 423.084 122.913 423.084 Z\" fill=\"#000000\" fill-rule=\"evenodd\" fill-opacity=\"1\" /><path clip-path=\"url(#clip110)\" d=\"M56.6171 182.785 L72.9365 182.785 L72.9365 186.721 L50.9921 186.721 L50.9921 182.785 Q53.6541 180.031 58.2375 175.401 Q62.8439 170.749 64.0245 169.406 Q66.2698 166.883 67.1494 165.147 Q68.0522 163.387 68.0522 161.698 Q68.0522 158.943 66.1078 157.207 Q64.1865 155.471 61.0847 155.471 Q58.8856 155.471 56.4319 156.235 Q54.0014 156.999 51.2236 158.549 L51.2236 153.827 Q54.0477 152.693 56.5014 152.114 Q58.955 151.536 60.9921 151.536 Q66.3624 151.536 69.5568 154.221 Q72.7513 156.906 72.7513 161.397 Q72.7513 163.526 71.9411 165.448 Q71.1541 167.346 69.0476 169.938 Q68.4689 170.61 65.367 173.827 Q62.2652 177.022 56.6171 182.785 Z\" fill=\"#000000\" fill-rule=\"evenodd\" fill-opacity=\"1\" /><path clip-path=\"url(#clip110)\" d=\"M92.7512 155.239 Q89.1401 155.239 87.3114 158.804 Q85.5058 162.346 85.5058 169.475 Q85.5058 176.582 87.3114 180.147 Q89.1401 183.688 92.7512 183.688 Q96.3854 183.688 98.1909 180.147 Q100.02 176.582 100.02 169.475 Q100.02 162.346 98.1909 158.804 Q96.3854 155.239 92.7512 155.239 M92.7512 151.536 Q98.5613 151.536 101.617 156.142 Q104.696 160.725 104.696 169.475 Q104.696 178.202 101.617 182.809 Q98.5613 187.392 92.7512 187.392 Q86.941 187.392 83.8623 182.809 Q80.8068 178.202 80.8068 169.475 Q80.8068 160.725 83.8623 156.142 Q86.941 151.536 92.7512 151.536 Z\" fill=\"#000000\" fill-rule=\"evenodd\" fill-opacity=\"1\" /><path clip-path=\"url(#clip110)\" d=\"M122.913 155.239 Q119.302 155.239 117.473 158.804 Q115.668 162.346 115.668 169.475 Q115.668 176.582 117.473 180.147 Q119.302 183.688 122.913 183.688 Q126.547 183.688 128.353 180.147 Q130.182 176.582 130.182 169.475 Q130.182 162.346 128.353 158.804 Q126.547 155.239 122.913 155.239 M122.913 151.536 Q128.723 151.536 131.779 156.142 Q134.857 160.725 134.857 169.475 Q134.857 178.202 131.779 182.809 Q128.723 187.392 122.913 187.392 Q117.103 187.392 114.024 182.809 Q110.969 178.202 110.969 169.475 Q110.969 160.725 114.024 156.142 Q117.103 151.536 122.913 151.536 Z\" fill=\"#000000\" fill-rule=\"evenodd\" fill-opacity=\"1\" /><polyline clip-path=\"url(#clip112)\" style=\"stroke:#009af9; stroke-linecap:round; stroke-linejoin:round; stroke-width:4; stroke-opacity:1; fill:none\" points=\"232.609,1445.72 235.96,1442.64 239.31,1439.59 242.66,1436.58 246.011,1433.59 276.989,1407.46 307.968,1383.87 338.946,1362.71 369.925,1343.88 407.158,1324.17 444.392,1307.47 475.872,1295.55 507.353,1285.52 541.55,1276.64 575.746,1269.7 607.273,1264.9 638.799,1261.52 672.599,1259.32 706.398,1258.47 745.558,1258.97 784.718,1260.86 854.32,1266.94 915.355,1274.3 981.899,1283.43 1048.84,1292.7 1122.85,1301.71 1193.27,1307.73 1229.88,1309.44 1266.49,1309.93 1297.3,1309.27 1328.12,1307.51 1365.75,1303.7 1403.37,1297.9 1437.84,1290.66 1472.3,1281.42 1504.14,1270.97 1535.97,1258.57 1568.21,1243.89 1600.46,1226.96 1636.6,1205.14 1672.74,1180.15 1705.48,1154.63 1738.23,1126.23 1756.98,1108.62 1775.72,1090.01 1794.47,1070.36 1813.21,1049.65 1830.57,1029.51 1847.93,1008.41 1865.29,986.354 1882.64,963.306 1899.76,939.597 1916.87,914.889 1933.98,889.165 1951.09,862.404 1967.71,835.414 1984.32,807.412 2000.94,778.381 2017.55,748.306 2034.59,716.371 2051.62,683.302 2068.65,649.079 2085.68,613.683 2104.34,573.537 2123.01,531.937 2141.67,488.859 2160.33,444.279 2187.43,376.795 2214.54,306.016 2241.65,231.867 2268.76,154.274 2274.32,137.924 2279.88,121.424 2285.44,104.775 2291,87.9763 \"/>\n",
       "<path clip-path=\"url(#clip110)\" d=\"M243.587 198.898 L514.207 198.898 L514.207 95.2176 L243.587 95.2176  Z\" fill=\"#ffffff\" fill-rule=\"evenodd\" fill-opacity=\"1\"/>\n",
       "<polyline clip-path=\"url(#clip110)\" style=\"stroke:#000000; stroke-linecap:round; stroke-linejoin:round; stroke-width:4; stroke-opacity:1; fill:none\" points=\"243.587,198.898 514.207,198.898 514.207,95.2176 243.587,95.2176 243.587,198.898 \"/>\n",
       "<polyline clip-path=\"url(#clip110)\" style=\"stroke:#009af9; stroke-linecap:round; stroke-linejoin:round; stroke-width:4; stroke-opacity:1; fill:none\" points=\"267.831,147.058 413.291,147.058 \"/>\n",
       "<path clip-path=\"url(#clip110)\" d=\"M451.376 166.745 Q449.571 171.375 447.858 172.787 Q446.145 174.199 443.275 174.199 L439.872 174.199 L439.872 170.634 L442.372 170.634 Q444.131 170.634 445.103 169.8 Q446.076 168.967 447.256 165.865 L448.02 163.921 L437.534 138.412 L442.048 138.412 L450.15 158.689 L458.251 138.412 L462.765 138.412 L451.376 166.745 Z\" fill=\"#000000\" fill-rule=\"evenodd\" fill-opacity=\"1\" /><path clip-path=\"url(#clip110)\" d=\"M470.057 160.402 L477.696 160.402 L477.696 134.037 L469.386 135.703 L469.386 131.444 L477.649 129.778 L482.325 129.778 L482.325 160.402 L489.964 160.402 L489.964 164.338 L470.057 164.338 L470.057 160.402 Z\" fill=\"#000000\" fill-rule=\"evenodd\" fill-opacity=\"1\" /></svg>\n"
      ]
     },
     "execution_count": 15,
     "metadata": {},
     "output_type": "execute_result"
    }
   ],
   "source": [
    "using Plots\n",
    "f(x) = x^3+4*x^2-10\n",
    "\n",
    "bisection(f,0,2,0.0001, 10000)\n",
    "plot(f)"
   ]
  },
  {
   "cell_type": "markdown",
   "id": "195b665d",
   "metadata": {},
   "source": [
    "## Suppose you are dealing with functions that have multiple roots such as the `h(x)` given below.  In general, it is not possible to find all the roots for such functions without further information. Nevertheless, if the roots are reasonably spaced apart (e.g., the distance between them is much larger than the error tolerance used in checking convergence), we could find the roots that fall in a given interval $[a, b]$.\n",
    "\n",
    "- Use the package `Plots` to plot the function $h(x) = 0.1 + \\sin(x) + \\cos(x) - 0.01x^3$ for $x$ in the range of $[-10, 10]$. \n",
    "  - The graph is to give you an idea of what multiple roots mean.\n",
    "\n",
    "- Modify `bisection` so that it can deal with functions that have multiple roots in the range of $[a,b]$.  Name the function `bisection_b`.\n",
    "  - Hint: You may start from one end of the bracket, find the first root, use it to find the next one.\n",
    "  - The function should not be tailored to $h(x)$ given above. It should be general enough for other multiple-roots functions.\n",
    "\n",
    "- Suppose you are given the function $h(x) = 0.1 + \\sin(x) + \\cos(x) - 0.01x^3$ and you are NOT allowed to plot the function for inspection. The only information you have is that it has multiple roots in $[-7,7]$. Use `bisection_b` to find the roots of $h(x)$."
   ]
  },
  {
   "cell_type": "code",
   "execution_count": 16,
   "id": "5cb054a0",
   "metadata": {},
   "outputs": [
    {
     "data": {
      "image/svg+xml": [
       "<?xml version=\"1.0\" encoding=\"utf-8\"?>\n",
       "<svg xmlns=\"http://www.w3.org/2000/svg\" xmlns:xlink=\"http://www.w3.org/1999/xlink\" width=\"600\" height=\"400\" viewBox=\"0 0 2400 1600\">\n",
       "<defs>\n",
       "  <clipPath id=\"clip150\">\n",
       "    <rect x=\"0\" y=\"0\" width=\"2400\" height=\"1600\"/>\n",
       "  </clipPath>\n",
       "</defs>\n",
       "<path clip-path=\"url(#clip150)\" d=\"M0 1600 L2400 1600 L2400 0 L0 0  Z\" fill=\"#ffffff\" fill-rule=\"evenodd\" fill-opacity=\"1\"/>\n",
       "<defs>\n",
       "  <clipPath id=\"clip151\">\n",
       "    <rect x=\"480\" y=\"0\" width=\"1681\" height=\"1600\"/>\n",
       "  </clipPath>\n",
       "</defs>\n",
       "<path clip-path=\"url(#clip150)\" d=\"M178.867 1486.45 L2352.76 1486.45 L2352.76 47.2441 L178.867 47.2441  Z\" fill=\"#ffffff\" fill-rule=\"evenodd\" fill-opacity=\"1\"/>\n",
       "<defs>\n",
       "  <clipPath id=\"clip152\">\n",
       "    <rect x=\"178\" y=\"47\" width=\"2175\" height=\"1440\"/>\n",
       "  </clipPath>\n",
       "</defs>\n",
       "<polyline clip-path=\"url(#clip152)\" style=\"stroke:#000000; stroke-linecap:round; stroke-linejoin:round; stroke-width:2; stroke-opacity:0.1; fill:none\" points=\"178.867,1486.45 178.867,47.2441 \"/>\n",
       "<polyline clip-path=\"url(#clip152)\" style=\"stroke:#000000; stroke-linecap:round; stroke-linejoin:round; stroke-width:2; stroke-opacity:0.1; fill:none\" points=\"722.339,1486.45 722.339,47.2441 \"/>\n",
       "<polyline clip-path=\"url(#clip152)\" style=\"stroke:#000000; stroke-linecap:round; stroke-linejoin:round; stroke-width:2; stroke-opacity:0.1; fill:none\" points=\"1265.81,1486.45 1265.81,47.2441 \"/>\n",
       "<polyline clip-path=\"url(#clip152)\" style=\"stroke:#000000; stroke-linecap:round; stroke-linejoin:round; stroke-width:2; stroke-opacity:0.1; fill:none\" points=\"1809.28,1486.45 1809.28,47.2441 \"/>\n",
       "<polyline clip-path=\"url(#clip152)\" style=\"stroke:#000000; stroke-linecap:round; stroke-linejoin:round; stroke-width:2; stroke-opacity:0.1; fill:none\" points=\"2352.76,1486.45 2352.76,47.2441 \"/>\n",
       "<polyline clip-path=\"url(#clip150)\" style=\"stroke:#000000; stroke-linecap:round; stroke-linejoin:round; stroke-width:4; stroke-opacity:1; fill:none\" points=\"178.867,1486.45 2352.76,1486.45 \"/>\n",
       "<polyline clip-path=\"url(#clip150)\" style=\"stroke:#000000; stroke-linecap:round; stroke-linejoin:round; stroke-width:4; stroke-opacity:1; fill:none\" points=\"178.867,1486.45 178.867,1467.55 \"/>\n",
       "<polyline clip-path=\"url(#clip150)\" style=\"stroke:#000000; stroke-linecap:round; stroke-linejoin:round; stroke-width:4; stroke-opacity:1; fill:none\" points=\"722.339,1486.45 722.339,1467.55 \"/>\n",
       "<polyline clip-path=\"url(#clip150)\" style=\"stroke:#000000; stroke-linecap:round; stroke-linejoin:round; stroke-width:4; stroke-opacity:1; fill:none\" points=\"1265.81,1486.45 1265.81,1467.55 \"/>\n",
       "<polyline clip-path=\"url(#clip150)\" style=\"stroke:#000000; stroke-linecap:round; stroke-linejoin:round; stroke-width:4; stroke-opacity:1; fill:none\" points=\"1809.28,1486.45 1809.28,1467.55 \"/>\n",
       "<polyline clip-path=\"url(#clip150)\" style=\"stroke:#000000; stroke-linecap:round; stroke-linejoin:round; stroke-width:4; stroke-opacity:1; fill:none\" points=\"2352.76,1486.45 2352.76,1467.55 \"/>\n",
       "<path clip-path=\"url(#clip150)\" d=\"M132.929 1532.02 L162.605 1532.02 L162.605 1535.95 L132.929 1535.95 L132.929 1532.02 Z\" fill=\"#000000\" fill-rule=\"evenodd\" fill-opacity=\"1\" /><path clip-path=\"url(#clip150)\" d=\"M173.508 1544.91 L181.147 1544.91 L181.147 1518.55 L172.837 1520.21 L172.837 1515.95 L181.1 1514.29 L185.776 1514.29 L185.776 1544.91 L193.415 1544.91 L193.415 1548.85 L173.508 1548.85 L173.508 1544.91 Z\" fill=\"#000000\" fill-rule=\"evenodd\" fill-opacity=\"1\" /><path clip-path=\"url(#clip150)\" d=\"M212.86 1517.37 Q209.248 1517.37 207.42 1520.93 Q205.614 1524.47 205.614 1531.6 Q205.614 1538.71 207.42 1542.27 Q209.248 1545.82 212.86 1545.82 Q216.494 1545.82 218.299 1542.27 Q220.128 1538.71 220.128 1531.6 Q220.128 1524.47 218.299 1520.93 Q216.494 1517.37 212.86 1517.37 M212.86 1513.66 Q218.67 1513.66 221.725 1518.27 Q224.804 1522.85 224.804 1531.6 Q224.804 1540.33 221.725 1544.94 Q218.67 1549.52 212.86 1549.52 Q207.049 1549.52 203.971 1544.94 Q200.915 1540.33 200.915 1531.6 Q200.915 1522.85 203.971 1518.27 Q207.049 1513.66 212.86 1513.66 Z\" fill=\"#000000\" fill-rule=\"evenodd\" fill-opacity=\"1\" /><path clip-path=\"url(#clip150)\" d=\"M691.98 1532.02 L721.656 1532.02 L721.656 1535.95 L691.98 1535.95 L691.98 1532.02 Z\" fill=\"#000000\" fill-rule=\"evenodd\" fill-opacity=\"1\" /><path clip-path=\"url(#clip150)\" d=\"M731.795 1514.29 L750.151 1514.29 L750.151 1518.22 L736.077 1518.22 L736.077 1526.7 Q737.096 1526.35 738.114 1526.19 Q739.133 1526 740.151 1526 Q745.938 1526 749.318 1529.17 Q752.698 1532.34 752.698 1537.76 Q752.698 1543.34 749.225 1546.44 Q745.753 1549.52 739.434 1549.52 Q737.258 1549.52 734.989 1549.15 Q732.744 1548.78 730.337 1548.04 L730.337 1543.34 Q732.42 1544.47 734.642 1545.03 Q736.864 1545.58 739.341 1545.58 Q743.346 1545.58 745.684 1543.48 Q748.022 1541.37 748.022 1537.76 Q748.022 1534.15 745.684 1532.04 Q743.346 1529.94 739.341 1529.94 Q737.466 1529.94 735.591 1530.35 Q733.739 1530.77 731.795 1531.65 L731.795 1514.29 Z\" fill=\"#000000\" fill-rule=\"evenodd\" fill-opacity=\"1\" /><path clip-path=\"url(#clip150)\" d=\"M1265.81 1517.37 Q1262.2 1517.37 1260.37 1520.93 Q1258.57 1524.47 1258.57 1531.6 Q1258.57 1538.71 1260.37 1542.27 Q1262.2 1545.82 1265.81 1545.82 Q1269.45 1545.82 1271.25 1542.27 Q1273.08 1538.71 1273.08 1531.6 Q1273.08 1524.47 1271.25 1520.93 Q1269.45 1517.37 1265.81 1517.37 M1265.81 1513.66 Q1271.62 1513.66 1274.68 1518.27 Q1277.76 1522.85 1277.76 1531.6 Q1277.76 1540.33 1274.68 1544.94 Q1271.62 1549.52 1265.81 1549.52 Q1260 1549.52 1256.92 1544.94 Q1253.87 1540.33 1253.87 1531.6 Q1253.87 1522.85 1256.92 1518.27 Q1260 1513.66 1265.81 1513.66 Z\" fill=\"#000000\" fill-rule=\"evenodd\" fill-opacity=\"1\" /><path clip-path=\"url(#clip150)\" d=\"M1799.56 1514.29 L1817.92 1514.29 L1817.92 1518.22 L1803.84 1518.22 L1803.84 1526.7 Q1804.86 1526.35 1805.88 1526.19 Q1806.9 1526 1807.92 1526 Q1813.7 1526 1817.08 1529.17 Q1820.46 1532.34 1820.46 1537.76 Q1820.46 1543.34 1816.99 1546.44 Q1813.52 1549.52 1807.2 1549.52 Q1805.02 1549.52 1802.76 1549.15 Q1800.51 1548.78 1798.1 1548.04 L1798.1 1543.34 Q1800.19 1544.47 1802.41 1545.03 Q1804.63 1545.58 1807.11 1545.58 Q1811.11 1545.58 1813.45 1543.48 Q1815.79 1541.37 1815.79 1537.76 Q1815.79 1534.15 1813.45 1532.04 Q1811.11 1529.94 1807.11 1529.94 Q1805.23 1529.94 1803.36 1530.35 Q1801.51 1530.77 1799.56 1531.65 L1799.56 1514.29 Z\" fill=\"#000000\" fill-rule=\"evenodd\" fill-opacity=\"1\" /><path clip-path=\"url(#clip150)\" d=\"M2327.44 1544.91 L2335.08 1544.91 L2335.08 1518.55 L2326.77 1520.21 L2326.77 1515.95 L2335.04 1514.29 L2339.71 1514.29 L2339.71 1544.91 L2347.35 1544.91 L2347.35 1548.85 L2327.44 1548.85 L2327.44 1544.91 Z\" fill=\"#000000\" fill-rule=\"evenodd\" fill-opacity=\"1\" /><path clip-path=\"url(#clip150)\" d=\"M2366.8 1517.37 Q2363.18 1517.37 2361.36 1520.93 Q2359.55 1524.47 2359.55 1531.6 Q2359.55 1538.71 2361.36 1542.27 Q2363.18 1545.82 2366.8 1545.82 Q2370.43 1545.82 2372.23 1542.27 Q2374.06 1538.71 2374.06 1531.6 Q2374.06 1524.47 2372.23 1520.93 Q2370.43 1517.37 2366.8 1517.37 M2366.8 1513.66 Q2372.61 1513.66 2375.66 1518.27 Q2378.74 1522.85 2378.74 1531.6 Q2378.74 1540.33 2375.66 1544.94 Q2372.61 1549.52 2366.8 1549.52 Q2360.99 1549.52 2357.91 1544.94 Q2354.85 1540.33 2354.85 1531.6 Q2354.85 1522.85 2357.91 1518.27 Q2360.99 1513.66 2366.8 1513.66 Z\" fill=\"#000000\" fill-rule=\"evenodd\" fill-opacity=\"1\" /><polyline clip-path=\"url(#clip152)\" style=\"stroke:#000000; stroke-linecap:round; stroke-linejoin:round; stroke-width:2; stroke-opacity:0.1; fill:none\" points=\"178.867,1363.1 2352.76,1363.1 \"/>\n",
       "<polyline clip-path=\"url(#clip152)\" style=\"stroke:#000000; stroke-linecap:round; stroke-linejoin:round; stroke-width:2; stroke-opacity:0.1; fill:none\" points=\"178.867,1041.18 2352.76,1041.18 \"/>\n",
       "<polyline clip-path=\"url(#clip152)\" style=\"stroke:#000000; stroke-linecap:round; stroke-linejoin:round; stroke-width:2; stroke-opacity:0.1; fill:none\" points=\"178.867,719.261 2352.76,719.261 \"/>\n",
       "<polyline clip-path=\"url(#clip152)\" style=\"stroke:#000000; stroke-linecap:round; stroke-linejoin:round; stroke-width:2; stroke-opacity:0.1; fill:none\" points=\"178.867,397.34 2352.76,397.34 \"/>\n",
       "<polyline clip-path=\"url(#clip152)\" style=\"stroke:#000000; stroke-linecap:round; stroke-linejoin:round; stroke-width:2; stroke-opacity:0.1; fill:none\" points=\"178.867,75.4181 2352.76,75.4181 \"/>\n",
       "<polyline clip-path=\"url(#clip150)\" style=\"stroke:#000000; stroke-linecap:round; stroke-linejoin:round; stroke-width:4; stroke-opacity:1; fill:none\" points=\"178.867,1486.45 178.867,47.2441 \"/>\n",
       "<polyline clip-path=\"url(#clip150)\" style=\"stroke:#000000; stroke-linecap:round; stroke-linejoin:round; stroke-width:4; stroke-opacity:1; fill:none\" points=\"178.867,1363.1 197.764,1363.1 \"/>\n",
       "<polyline clip-path=\"url(#clip150)\" style=\"stroke:#000000; stroke-linecap:round; stroke-linejoin:round; stroke-width:4; stroke-opacity:1; fill:none\" points=\"178.867,1041.18 197.764,1041.18 \"/>\n",
       "<polyline clip-path=\"url(#clip150)\" style=\"stroke:#000000; stroke-linecap:round; stroke-linejoin:round; stroke-width:4; stroke-opacity:1; fill:none\" points=\"178.867,719.261 197.764,719.261 \"/>\n",
       "<polyline clip-path=\"url(#clip150)\" style=\"stroke:#000000; stroke-linecap:round; stroke-linejoin:round; stroke-width:4; stroke-opacity:1; fill:none\" points=\"178.867,397.34 197.764,397.34 \"/>\n",
       "<polyline clip-path=\"url(#clip150)\" style=\"stroke:#000000; stroke-linecap:round; stroke-linejoin:round; stroke-width:4; stroke-opacity:1; fill:none\" points=\"178.867,75.4181 197.764,75.4181 \"/>\n",
       "<path clip-path=\"url(#clip150)\" d=\"M50.9921 1363.56 L80.6679 1363.56 L80.6679 1367.49 L50.9921 1367.49 L50.9921 1363.56 Z\" fill=\"#000000\" fill-rule=\"evenodd\" fill-opacity=\"1\" /><path clip-path=\"url(#clip150)\" d=\"M91.5706 1376.45 L99.2095 1376.45 L99.2095 1350.08 L90.8993 1351.75 L90.8993 1347.49 L99.1632 1345.82 L103.839 1345.82 L103.839 1376.45 L111.478 1376.45 L111.478 1380.38 L91.5706 1380.38 L91.5706 1376.45 Z\" fill=\"#000000\" fill-rule=\"evenodd\" fill-opacity=\"1\" /><path clip-path=\"url(#clip150)\" d=\"M130.922 1348.9 Q127.311 1348.9 125.482 1352.47 Q123.677 1356.01 123.677 1363.14 Q123.677 1370.25 125.482 1373.81 Q127.311 1377.35 130.922 1377.35 Q134.556 1377.35 136.362 1373.81 Q138.191 1370.25 138.191 1363.14 Q138.191 1356.01 136.362 1352.47 Q134.556 1348.9 130.922 1348.9 M130.922 1345.2 Q136.732 1345.2 139.788 1349.81 Q142.867 1354.39 142.867 1363.14 Q142.867 1371.87 139.788 1376.47 Q136.732 1381.06 130.922 1381.06 Q125.112 1381.06 122.033 1376.47 Q118.978 1371.87 118.978 1363.14 Q118.978 1354.39 122.033 1349.81 Q125.112 1345.2 130.922 1345.2 Z\" fill=\"#000000\" fill-rule=\"evenodd\" fill-opacity=\"1\" /><path clip-path=\"url(#clip150)\" d=\"M82.1494 1041.63 L111.825 1041.63 L111.825 1045.57 L82.1494 1045.57 L82.1494 1041.63 Z\" fill=\"#000000\" fill-rule=\"evenodd\" fill-opacity=\"1\" /><path clip-path=\"url(#clip150)\" d=\"M121.964 1023.9 L140.32 1023.9 L140.32 1027.84 L126.246 1027.84 L126.246 1036.31 Q127.265 1035.96 128.283 1035.8 Q129.302 1035.62 130.32 1035.62 Q136.107 1035.62 139.487 1038.79 Q142.867 1041.96 142.867 1047.38 Q142.867 1052.95 139.394 1056.06 Q135.922 1059.13 129.603 1059.13 Q127.427 1059.13 125.158 1058.76 Q122.913 1058.39 120.506 1057.65 L120.506 1052.95 Q122.589 1054.09 124.811 1054.64 Q127.033 1055.2 129.51 1055.2 Q133.515 1055.2 135.853 1053.09 Q138.191 1050.99 138.191 1047.38 Q138.191 1043.76 135.853 1041.66 Q133.515 1039.55 129.51 1039.55 Q127.635 1039.55 125.76 1039.97 Q123.908 1040.38 121.964 1041.26 L121.964 1023.9 Z\" fill=\"#000000\" fill-rule=\"evenodd\" fill-opacity=\"1\" /><path clip-path=\"url(#clip150)\" d=\"M130.922 705.06 Q127.311 705.06 125.482 708.625 Q123.677 712.166 123.677 719.296 Q123.677 726.403 125.482 729.967 Q127.311 733.509 130.922 733.509 Q134.556 733.509 136.362 729.967 Q138.191 726.403 138.191 719.296 Q138.191 712.166 136.362 708.625 Q134.556 705.06 130.922 705.06 M130.922 701.356 Q136.732 701.356 139.788 705.963 Q142.867 710.546 142.867 719.296 Q142.867 728.023 139.788 732.629 Q136.732 737.213 130.922 737.213 Q125.112 737.213 122.033 732.629 Q118.978 728.023 118.978 719.296 Q118.978 710.546 122.033 705.963 Q125.112 701.356 130.922 701.356 Z\" fill=\"#000000\" fill-rule=\"evenodd\" fill-opacity=\"1\" /><path clip-path=\"url(#clip150)\" d=\"M121.964 380.06 L140.32 380.06 L140.32 383.995 L126.246 383.995 L126.246 392.467 Q127.265 392.12 128.283 391.958 Q129.302 391.773 130.32 391.773 Q136.107 391.773 139.487 394.944 Q142.867 398.115 142.867 403.532 Q142.867 409.11 139.394 412.212 Q135.922 415.291 129.603 415.291 Q127.427 415.291 125.158 414.921 Q122.913 414.55 120.506 413.81 L120.506 409.11 Q122.589 410.245 124.811 410.8 Q127.033 411.356 129.51 411.356 Q133.515 411.356 135.853 409.249 Q138.191 407.143 138.191 403.532 Q138.191 399.921 135.853 397.814 Q133.515 395.708 129.51 395.708 Q127.635 395.708 125.76 396.124 Q123.908 396.541 121.964 397.421 L121.964 380.06 Z\" fill=\"#000000\" fill-rule=\"evenodd\" fill-opacity=\"1\" /><path clip-path=\"url(#clip150)\" d=\"M91.5706 88.7629 L99.2095 88.7629 L99.2095 62.3973 L90.8993 64.064 L90.8993 59.8047 L99.1632 58.1381 L103.839 58.1381 L103.839 88.7629 L111.478 88.7629 L111.478 92.6981 L91.5706 92.6981 L91.5706 88.7629 Z\" fill=\"#000000\" fill-rule=\"evenodd\" fill-opacity=\"1\" /><path clip-path=\"url(#clip150)\" d=\"M130.922 61.2168 Q127.311 61.2168 125.482 64.7816 Q123.677 68.3232 123.677 75.4528 Q123.677 82.5593 125.482 86.124 Q127.311 89.6657 130.922 89.6657 Q134.556 89.6657 136.362 86.124 Q138.191 82.5593 138.191 75.4528 Q138.191 68.3232 136.362 64.7816 Q134.556 61.2168 130.922 61.2168 M130.922 57.5131 Q136.732 57.5131 139.788 62.1195 Q142.867 66.7029 142.867 75.4528 Q142.867 84.1796 139.788 88.7861 Q136.732 93.3694 130.922 93.3694 Q125.112 93.3694 122.033 88.7861 Q118.978 84.1796 118.978 75.4528 Q118.978 66.7029 122.033 62.1195 Q125.112 57.5131 130.922 57.5131 Z\" fill=\"#000000\" fill-rule=\"evenodd\" fill-opacity=\"1\" /><polyline clip-path=\"url(#clip152)\" style=\"stroke:#009af9; stroke-linecap:round; stroke-linejoin:round; stroke-width:4; stroke-opacity:1; fill:none\" points=\"178.867,87.9763 182.405,97.1317 185.943,106.223 189.482,115.248 193.02,124.202 209.378,164.615 225.737,203.206 242.095,239.729 258.453,273.963 274.812,305.721 291.17,334.853 307.528,361.251 323.887,384.852 333.717,397.679 343.548,409.493 353.379,420.304 363.209,430.127 373.04,438.984 382.871,446.905 392.701,453.921 402.532,460.072 419.156,468.629 435.779,475.079 452.403,479.697 469.026,482.781 505.141,485.752 541.257,486.438 574.552,487.938 607.847,492.651 625.695,497.151 643.543,503.302 661.391,511.243 679.239,521.05 699.918,534.754 720.597,550.876 741.275,569.209 761.954,589.439 798.708,628.765 835.461,669.925 867.691,704.966 899.92,736.688 917.49,751.837 935.059,765.094 952.628,776.207 970.198,784.975 987.872,791.28 1005.55,794.97 1023.22,796.015 1040.89,794.449 1060.43,789.795 1079.97,782.285 1099.52,772.218 1119.06,759.972 1156.24,732.27 1193.43,701.783 1212.76,686.075 1232.09,671.149 1251.42,657.499 1270.75,645.579 1287.03,637.179 1303.3,630.488 1319.57,625.67 1335.85,622.846 1355.71,622.213 1375.58,624.718 1385.52,627.135 1395.45,630.31 1405.38,634.222 1415.32,638.843 1433.52,649.034 1451.72,661.243 1469.92,675.17 1488.12,690.473 1521.74,721.077 1555.36,752.566 1589.41,782.788 1623.47,808.982 1642.55,821.18 1661.63,831.285 1680.71,839.137 1699.8,844.661 1717.09,847.662 1734.38,848.828 1751.67,848.284 1768.96,846.207 1808.56,836.99 1848.16,824.557 1866.49,818.891 1884.82,813.905 1903.15,810.052 1921.48,807.767 1939.56,807.45 1957.63,809.414 1975.7,813.973 1993.77,821.386 2011.32,831.506 2028.87,844.632 2046.42,860.831 2063.96,880.105 2081.95,902.995 2099.94,928.931 2117.93,957.725 2135.91,989.132 2155.62,1026.2 2175.33,1065.61 2195.04,1106.88 2214.75,1149.51 2243.38,1212.79 2272,1276.3 2300.63,1338.66 2329.26,1398.72 2335.14,1410.68 2341.01,1422.5 2346.88,1434.18 2352.76,1445.72 \"/>\n",
       "<path clip-path=\"url(#clip150)\" d=\"M2010.47 198.898 L2280.29 198.898 L2280.29 95.2176 L2010.47 95.2176  Z\" fill=\"#ffffff\" fill-rule=\"evenodd\" fill-opacity=\"1\"/>\n",
       "<polyline clip-path=\"url(#clip150)\" style=\"stroke:#000000; stroke-linecap:round; stroke-linejoin:round; stroke-width:4; stroke-opacity:1; fill:none\" points=\"2010.47,198.898 2280.29,198.898 2280.29,95.2176 2010.47,95.2176 2010.47,198.898 \"/>\n",
       "<polyline clip-path=\"url(#clip150)\" style=\"stroke:#009af9; stroke-linecap:round; stroke-linejoin:round; stroke-width:4; stroke-opacity:1; fill:none\" points=\"2034.63,147.058 2179.55,147.058 \"/>\n",
       "<path clip-path=\"url(#clip150)\" d=\"M2217.55 166.745 Q2215.75 171.375 2214.03 172.787 Q2212.32 174.199 2209.45 174.199 L2206.05 174.199 L2206.05 170.634 L2208.55 170.634 Q2210.31 170.634 2211.28 169.8 Q2212.25 168.967 2213.43 165.865 L2214.19 163.921 L2203.71 138.412 L2208.22 138.412 L2216.32 158.689 L2224.43 138.412 L2228.94 138.412 L2217.55 166.745 Z\" fill=\"#000000\" fill-rule=\"evenodd\" fill-opacity=\"1\" /><path clip-path=\"url(#clip150)\" d=\"M2236.23 160.402 L2243.87 160.402 L2243.87 134.037 L2235.56 135.703 L2235.56 131.444 L2243.82 129.778 L2248.5 129.778 L2248.5 160.402 L2256.14 160.402 L2256.14 164.338 L2236.23 164.338 L2236.23 160.402 Z\" fill=\"#000000\" fill-rule=\"evenodd\" fill-opacity=\"1\" /></svg>\n"
      ]
     },
     "execution_count": 16,
     "metadata": {},
     "output_type": "execute_result"
    }
   ],
   "source": [
    "h(x) = 0.1 +sin(x)+cos(x)-0.01*x^3\n",
    "plot(h,xlim=(-10,10))"
   ]
  },
  {
   "cell_type": "code",
   "execution_count": 34,
   "id": "61d3480d",
   "metadata": {},
   "outputs": [
    {
     "name": "stdout",
     "output_type": "stream",
     "text": [
      "Roots:\n",
      "-3.5341241455078127\n",
      "-0.8606915283203129\n",
      "2.3366900634765613\n"
     ]
    }
   ],
   "source": [
    "#將[a,b]切成數個區段，分別找根，並再分成更小的區段，如前後迭代找到的數量一樣就停止，不一樣則繼續迭代。\n",
    "\n",
    "function bisection_b(f::Function,a,b,eps,imax,rmin) #rmin = minimum range of section.\n",
    "    rmin > eps       || throw(\"rmin must greater than eps.\")\n",
    "    rmin < (b - a)/10 || throw(\"rmin must smaller than (b - a)/10.\")\n",
    "    plist = []\n",
    "    range = (b - a)/10\n",
    "    prevP = 0\n",
    "    curP = 0\n",
    "    while range >= rmin                    #Iterate with different range(different amount of sections).\n",
    "        curP = 0\n",
    "        \n",
    "        for i in a:range:b-range           #Iterate in each section.\n",
    "            c = i   \n",
    "            d = i + range\n",
    "            iter = 1\n",
    "            p = 0.0\n",
    "            \n",
    "            while iter<=imax && f(c)f(d)<0                  \n",
    "                p = c + (d - c)/2 \n",
    "                if f(p)==0 || abs(c-d)<eps\n",
    "                    push!(plist,p)\n",
    "                    curP += 1\n",
    "                    break\n",
    "                end   \n",
    "                f(c)f(p)<0 ? d=p : c=p        \n",
    "                iter += 1\n",
    "            end \n",
    "            \n",
    "        end\n",
    "        \n",
    "        if curP == prevP #Check\n",
    "            break        #if\n",
    "        else             #amount of p \n",
    "            empty!(plist)#equals\n",
    "            prevP = curP #to\n",
    "            range /= 10  #last\n",
    "        end              #iteration.\n",
    "        \n",
    "    end\n",
    "    \n",
    "    print(\"Roots:\\n\")    #Print all p.\n",
    "    for i in plist  \n",
    "        print(i,\"\\n\")\n",
    "    end\n",
    "    \n",
    "end\n",
    "\n",
    "h(x) = 0.1 +sin(x)+cos(x)-0.01*x^3\n",
    "bisection_b(h,-7,7,0.00001, 10000, 0.014)\n",
    "\n"
   ]
  }
 ],
 "metadata": {
  "kernelspec": {
   "display_name": "Julia 1.8.5",
   "language": "julia",
   "name": "julia-1.8"
  },
  "language_info": {
   "file_extension": ".jl",
   "mimetype": "application/julia",
   "name": "julia",
   "version": "1.8.5"
  },
  "toc": {
   "base_numbering": 1,
   "nav_menu": {},
   "number_sections": true,
   "sideBar": true,
   "skip_h1_title": false,
   "title_cell": "Table of Contents",
   "title_sidebar": "Contents",
   "toc_cell": false,
   "toc_position": {},
   "toc_section_display": true,
   "toc_window_display": false
  }
 },
 "nbformat": 4,
 "nbformat_minor": 5
}
